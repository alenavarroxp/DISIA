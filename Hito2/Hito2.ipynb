{
 "cells": [
  {
   "cell_type": "markdown",
   "metadata": {},
   "source": [
    "Establecemos una ``semilla`` que nos permitirá hacer que los experimentos sean reproducibles."
   ]
  },
  {
   "cell_type": "code",
   "execution_count": 89,
   "metadata": {},
   "outputs": [],
   "source": [
    "#semilla\n",
    "seed = 42"
   ]
  },
  {
   "cell_type": "markdown",
   "metadata": {},
   "source": [
    "Realizamos todas las `importaciones` necesarias."
   ]
  },
  {
   "cell_type": "code",
   "execution_count": null,
   "metadata": {},
   "outputs": [],
   "source": [
    "#Importamos las librerias\n",
    "from sklearn.model_selection import train_test_split\n",
    "from sklearn import set_config\n",
    "import matplotlib.pyplot as plt\n",
    "import pandas as pd\n",
    "from sklearn.model_selection import LeaveOneOut\n",
    "import numpy as np\n",
    "import os\n",
    "from PIL import Image"
   ]
  },
  {
   "cell_type": "markdown",
   "metadata": {},
   "source": [
    "# 1.Carga de datos"
   ]
  },
  {
   "cell_type": "code",
   "execution_count": 91,
   "metadata": {},
   "outputs": [
    {
     "name": "stdout",
     "output_type": "stream",
     "text": [
      "Loaded 70 images.\n",
      "sin_procesar\\11.jpg\n"
     ]
    }
   ],
   "source": [
    "image_dir = 'sin_procesar'\n",
    "\n",
    "images = []\n",
    "\n",
    "for filename in os.listdir(image_dir):\n",
    "    if filename.endswith('.jpg'): \n",
    "        img_path = os.path.join(image_dir, filename)\n",
    "        img = Image.open(img_path)\n",
    "        images.append(img)\n",
    "\n",
    "# Print the number of images loaded\n",
    "print(f'Loaded {len(images)} images.')\n",
    "#indica el nombre de la imagen en la posicion 2\n",
    "print(images[2].filename)"
   ]
  },
  {
   "cell_type": "code",
   "execution_count": 92,
   "metadata": {},
   "outputs": [],
   "source": [
    "set_config(transform_output=\"pandas\")\n",
    "df = pd.read_csv('Hito2Datos.csv', delimiter=';')"
   ]
  },
  {
   "cell_type": "code",
   "execution_count": 93,
   "metadata": {
    "vscode": {
     "languageId": "ruby"
    }
   },
   "outputs": [
    {
     "name": "stdout",
     "output_type": "stream",
     "text": [
      "  URL imagen  ID Inundado transitable  \\\n",
      "0     Imagen   1       Si          No   \n",
      "1     Imagen   2       Si          No   \n",
      "2     Imagen   3       Si          No   \n",
      "3     Imagen   4       Si          No   \n",
      "4     Imagen   5       Si          No   \n",
      "\n",
      "                                           formarURL InundadoJm TransitableJm  \\\n",
      "0  https://raw.githubusercontent.com/alenavarroxp...         Si            No   \n",
      "1  https://raw.githubusercontent.com/alenavarroxp...         Si            No   \n",
      "2  https://raw.githubusercontent.com/alenavarroxp...         No            Si   \n",
      "3  https://raw.githubusercontent.com/alenavarroxp...         Si            No   \n",
      "4  https://raw.githubusercontent.com/alenavarroxp...         Si            No   \n",
      "\n",
      "  InundadoA TransitableA InundadoI TransitableI InundadoJ TransitableJ  \\\n",
      "0        Si           No        Si           No        Si           No   \n",
      "1        Si           No        Si           No        Si           No   \n",
      "2        Si           No        Si           No        Si           No   \n",
      "3        Si           No        Si           No        Si           No   \n",
      "4        Si           Si        Si           No        Si           No   \n",
      "\n",
      "  InundadoC TransitableC  \n",
      "0        Si           No  \n",
      "1        Si           No  \n",
      "2        No           Si  \n",
      "3        Si           No  \n",
      "4        Si           No  \n"
     ]
    }
   ],
   "source": [
    "# Definir las etiquetas\n",
    "etiquetas = ['URL imagen', 'ID', 'Inundado', 'transitable', 'formarURL', 'InundadoJm', 'TransitableJm', 'InundadoA', 'TransitableA', 'InundadoI', 'TransitableI', 'InundadoJ', 'TransitableJ', 'InundadoC', 'TransitableC']\n",
    "\n",
    "# Rellenar las columnas 'Inundado' y 'transitable' con valores de otras columnas\n",
    "df['Inundado'] = df[['InundadoJm', 'InundadoA', 'InundadoI', 'InundadoJ', 'InundadoC']].mode(axis=1)[0]\n",
    "df['transitable'] = df[['TransitableJm', 'TransitableA', 'TransitableI', 'TransitableJ', 'TransitableC']].mode(axis=1)[0]\n",
    "\n",
    "# Mostrar el dataframe actualizado\n",
    "print(df.head())"
   ]
  },
  {
   "cell_type": "markdown",
   "metadata": {},
   "source": [
    "Comprobando que se ha cargado correctamente:"
   ]
  },
  {
   "cell_type": "code",
   "execution_count": 94,
   "metadata": {},
   "outputs": [
    {
     "data": {
      "text/html": [
       "<div>\n",
       "<style scoped>\n",
       "    .dataframe tbody tr th:only-of-type {\n",
       "        vertical-align: middle;\n",
       "    }\n",
       "\n",
       "    .dataframe tbody tr th {\n",
       "        vertical-align: top;\n",
       "    }\n",
       "\n",
       "    .dataframe thead th {\n",
       "        text-align: right;\n",
       "    }\n",
       "</style>\n",
       "<table border=\"1\" class=\"dataframe\">\n",
       "  <thead>\n",
       "    <tr style=\"text-align: right;\">\n",
       "      <th></th>\n",
       "      <th>URL imagen</th>\n",
       "      <th>ID</th>\n",
       "      <th>Inundado</th>\n",
       "      <th>transitable</th>\n",
       "      <th>formarURL</th>\n",
       "      <th>InundadoJm</th>\n",
       "      <th>TransitableJm</th>\n",
       "      <th>InundadoA</th>\n",
       "      <th>TransitableA</th>\n",
       "      <th>InundadoI</th>\n",
       "      <th>TransitableI</th>\n",
       "      <th>InundadoJ</th>\n",
       "      <th>TransitableJ</th>\n",
       "      <th>InundadoC</th>\n",
       "      <th>TransitableC</th>\n",
       "    </tr>\n",
       "  </thead>\n",
       "  <tbody>\n",
       "    <tr>\n",
       "      <th>22</th>\n",
       "      <td>Imagen</td>\n",
       "      <td>23</td>\n",
       "      <td>Si</td>\n",
       "      <td>No</td>\n",
       "      <td>https://raw.githubusercontent.com/alenavarroxp...</td>\n",
       "      <td>Si</td>\n",
       "      <td>No</td>\n",
       "      <td>Si</td>\n",
       "      <td>Si</td>\n",
       "      <td>Si</td>\n",
       "      <td>No</td>\n",
       "      <td>Si</td>\n",
       "      <td>No</td>\n",
       "      <td>Si</td>\n",
       "      <td>No</td>\n",
       "    </tr>\n",
       "    <tr>\n",
       "      <th>0</th>\n",
       "      <td>Imagen</td>\n",
       "      <td>1</td>\n",
       "      <td>Si</td>\n",
       "      <td>No</td>\n",
       "      <td>https://raw.githubusercontent.com/alenavarroxp...</td>\n",
       "      <td>Si</td>\n",
       "      <td>No</td>\n",
       "      <td>Si</td>\n",
       "      <td>No</td>\n",
       "      <td>Si</td>\n",
       "      <td>No</td>\n",
       "      <td>Si</td>\n",
       "      <td>No</td>\n",
       "      <td>Si</td>\n",
       "      <td>No</td>\n",
       "    </tr>\n",
       "    <tr>\n",
       "      <th>49</th>\n",
       "      <td>Imagen</td>\n",
       "      <td>50</td>\n",
       "      <td>No</td>\n",
       "      <td>No</td>\n",
       "      <td>https://raw.githubusercontent.com/alenavarroxp...</td>\n",
       "      <td>No</td>\n",
       "      <td>No</td>\n",
       "      <td>No</td>\n",
       "      <td>No</td>\n",
       "      <td>No</td>\n",
       "      <td>No</td>\n",
       "      <td>No</td>\n",
       "      <td>No</td>\n",
       "      <td>No</td>\n",
       "      <td>No</td>\n",
       "    </tr>\n",
       "    <tr>\n",
       "      <th>4</th>\n",
       "      <td>Imagen</td>\n",
       "      <td>5</td>\n",
       "      <td>Si</td>\n",
       "      <td>No</td>\n",
       "      <td>https://raw.githubusercontent.com/alenavarroxp...</td>\n",
       "      <td>Si</td>\n",
       "      <td>No</td>\n",
       "      <td>Si</td>\n",
       "      <td>Si</td>\n",
       "      <td>Si</td>\n",
       "      <td>No</td>\n",
       "      <td>Si</td>\n",
       "      <td>No</td>\n",
       "      <td>Si</td>\n",
       "      <td>No</td>\n",
       "    </tr>\n",
       "    <tr>\n",
       "      <th>54</th>\n",
       "      <td>Imagen</td>\n",
       "      <td>55</td>\n",
       "      <td>No</td>\n",
       "      <td>Si</td>\n",
       "      <td>https://raw.githubusercontent.com/alenavarroxp...</td>\n",
       "      <td>No</td>\n",
       "      <td>Si</td>\n",
       "      <td>No</td>\n",
       "      <td>Si</td>\n",
       "      <td>No</td>\n",
       "      <td>Si</td>\n",
       "      <td>No</td>\n",
       "      <td>Si</td>\n",
       "      <td>No</td>\n",
       "      <td>Si</td>\n",
       "    </tr>\n",
       "  </tbody>\n",
       "</table>\n",
       "</div>"
      ],
      "text/plain": [
       "   URL imagen  ID Inundado transitable  \\\n",
       "22     Imagen  23       Si          No   \n",
       "0      Imagen   1       Si          No   \n",
       "49     Imagen  50       No          No   \n",
       "4      Imagen   5       Si          No   \n",
       "54     Imagen  55       No          Si   \n",
       "\n",
       "                                            formarURL InundadoJm  \\\n",
       "22  https://raw.githubusercontent.com/alenavarroxp...         Si   \n",
       "0   https://raw.githubusercontent.com/alenavarroxp...         Si   \n",
       "49  https://raw.githubusercontent.com/alenavarroxp...         No   \n",
       "4   https://raw.githubusercontent.com/alenavarroxp...         Si   \n",
       "54  https://raw.githubusercontent.com/alenavarroxp...         No   \n",
       "\n",
       "   TransitableJm InundadoA TransitableA InundadoI TransitableI InundadoJ  \\\n",
       "22            No        Si           Si        Si           No        Si   \n",
       "0             No        Si           No        Si           No        Si   \n",
       "49            No        No           No        No           No        No   \n",
       "4             No        Si           Si        Si           No        Si   \n",
       "54            Si        No           Si        No           Si        No   \n",
       "\n",
       "   TransitableJ InundadoC TransitableC  \n",
       "22           No        Si           No  \n",
       "0            No        Si           No  \n",
       "49           No        No           No  \n",
       "4            No        Si           No  \n",
       "54           Si        No           Si  "
      ]
     },
     "execution_count": 94,
     "metadata": {},
     "output_type": "execute_result"
    }
   ],
   "source": [
    "df.sample(5, random_state=seed)"
   ]
  },
  {
   "cell_type": "markdown",
   "metadata": {},
   "source": [
    "A continuación, creamos ``etiquetas`` para separar la variable objetivo del resto de variables."
   ]
  },
  {
   "cell_type": "code",
   "execution_count": 95,
   "metadata": {},
   "outputs": [],
   "source": [
    "target = [\"transitable\", \"Inundado\"]\n",
    "columns = target\n",
    "axis = \"columns\"\n",
    "\n",
    "arguments = {\"columns\": columns, \"axis\": axis}\n",
    "X, y = df.drop(**arguments), df[target]"
   ]
  },
  {
   "cell_type": "markdown",
   "metadata": {},
   "source": [
    "Vamos a comprobar que se ha separado correctamente. Comenzamos con las `variables predictoras`:"
   ]
  },
  {
   "cell_type": "code",
   "execution_count": 96,
   "metadata": {},
   "outputs": [
    {
     "data": {
      "text/html": [
       "<div>\n",
       "<style scoped>\n",
       "    .dataframe tbody tr th:only-of-type {\n",
       "        vertical-align: middle;\n",
       "    }\n",
       "\n",
       "    .dataframe tbody tr th {\n",
       "        vertical-align: top;\n",
       "    }\n",
       "\n",
       "    .dataframe thead th {\n",
       "        text-align: right;\n",
       "    }\n",
       "</style>\n",
       "<table border=\"1\" class=\"dataframe\">\n",
       "  <thead>\n",
       "    <tr style=\"text-align: right;\">\n",
       "      <th></th>\n",
       "      <th>URL imagen</th>\n",
       "      <th>ID</th>\n",
       "      <th>formarURL</th>\n",
       "      <th>InundadoJm</th>\n",
       "      <th>TransitableJm</th>\n",
       "      <th>InundadoA</th>\n",
       "      <th>TransitableA</th>\n",
       "      <th>InundadoI</th>\n",
       "      <th>TransitableI</th>\n",
       "      <th>InundadoJ</th>\n",
       "      <th>TransitableJ</th>\n",
       "      <th>InundadoC</th>\n",
       "      <th>TransitableC</th>\n",
       "    </tr>\n",
       "  </thead>\n",
       "  <tbody>\n",
       "    <tr>\n",
       "      <th>22</th>\n",
       "      <td>Imagen</td>\n",
       "      <td>23</td>\n",
       "      <td>https://raw.githubusercontent.com/alenavarroxp...</td>\n",
       "      <td>Si</td>\n",
       "      <td>No</td>\n",
       "      <td>Si</td>\n",
       "      <td>Si</td>\n",
       "      <td>Si</td>\n",
       "      <td>No</td>\n",
       "      <td>Si</td>\n",
       "      <td>No</td>\n",
       "      <td>Si</td>\n",
       "      <td>No</td>\n",
       "    </tr>\n",
       "    <tr>\n",
       "      <th>0</th>\n",
       "      <td>Imagen</td>\n",
       "      <td>1</td>\n",
       "      <td>https://raw.githubusercontent.com/alenavarroxp...</td>\n",
       "      <td>Si</td>\n",
       "      <td>No</td>\n",
       "      <td>Si</td>\n",
       "      <td>No</td>\n",
       "      <td>Si</td>\n",
       "      <td>No</td>\n",
       "      <td>Si</td>\n",
       "      <td>No</td>\n",
       "      <td>Si</td>\n",
       "      <td>No</td>\n",
       "    </tr>\n",
       "    <tr>\n",
       "      <th>49</th>\n",
       "      <td>Imagen</td>\n",
       "      <td>50</td>\n",
       "      <td>https://raw.githubusercontent.com/alenavarroxp...</td>\n",
       "      <td>No</td>\n",
       "      <td>No</td>\n",
       "      <td>No</td>\n",
       "      <td>No</td>\n",
       "      <td>No</td>\n",
       "      <td>No</td>\n",
       "      <td>No</td>\n",
       "      <td>No</td>\n",
       "      <td>No</td>\n",
       "      <td>No</td>\n",
       "    </tr>\n",
       "    <tr>\n",
       "      <th>4</th>\n",
       "      <td>Imagen</td>\n",
       "      <td>5</td>\n",
       "      <td>https://raw.githubusercontent.com/alenavarroxp...</td>\n",
       "      <td>Si</td>\n",
       "      <td>No</td>\n",
       "      <td>Si</td>\n",
       "      <td>Si</td>\n",
       "      <td>Si</td>\n",
       "      <td>No</td>\n",
       "      <td>Si</td>\n",
       "      <td>No</td>\n",
       "      <td>Si</td>\n",
       "      <td>No</td>\n",
       "    </tr>\n",
       "    <tr>\n",
       "      <th>54</th>\n",
       "      <td>Imagen</td>\n",
       "      <td>55</td>\n",
       "      <td>https://raw.githubusercontent.com/alenavarroxp...</td>\n",
       "      <td>No</td>\n",
       "      <td>Si</td>\n",
       "      <td>No</td>\n",
       "      <td>Si</td>\n",
       "      <td>No</td>\n",
       "      <td>Si</td>\n",
       "      <td>No</td>\n",
       "      <td>Si</td>\n",
       "      <td>No</td>\n",
       "      <td>Si</td>\n",
       "    </tr>\n",
       "  </tbody>\n",
       "</table>\n",
       "</div>"
      ],
      "text/plain": [
       "   URL imagen  ID                                          formarURL  \\\n",
       "22     Imagen  23  https://raw.githubusercontent.com/alenavarroxp...   \n",
       "0      Imagen   1  https://raw.githubusercontent.com/alenavarroxp...   \n",
       "49     Imagen  50  https://raw.githubusercontent.com/alenavarroxp...   \n",
       "4      Imagen   5  https://raw.githubusercontent.com/alenavarroxp...   \n",
       "54     Imagen  55  https://raw.githubusercontent.com/alenavarroxp...   \n",
       "\n",
       "   InundadoJm TransitableJm InundadoA TransitableA InundadoI TransitableI  \\\n",
       "22         Si            No        Si           Si        Si           No   \n",
       "0          Si            No        Si           No        Si           No   \n",
       "49         No            No        No           No        No           No   \n",
       "4          Si            No        Si           Si        Si           No   \n",
       "54         No            Si        No           Si        No           Si   \n",
       "\n",
       "   InundadoJ TransitableJ InundadoC TransitableC  \n",
       "22        Si           No        Si           No  \n",
       "0         Si           No        Si           No  \n",
       "49        No           No        No           No  \n",
       "4         Si           No        Si           No  \n",
       "54        No           Si        No           Si  "
      ]
     },
     "execution_count": 96,
     "metadata": {},
     "output_type": "execute_result"
    }
   ],
   "source": [
    "X.sample(5, random_state=seed)"
   ]
  },
  {
   "cell_type": "markdown",
   "metadata": {},
   "source": [
    "Y continuamos con la `variable clase`:"
   ]
  },
  {
   "cell_type": "code",
   "execution_count": 97,
   "metadata": {},
   "outputs": [
    {
     "data": {
      "text/html": [
       "<div>\n",
       "<style scoped>\n",
       "    .dataframe tbody tr th:only-of-type {\n",
       "        vertical-align: middle;\n",
       "    }\n",
       "\n",
       "    .dataframe tbody tr th {\n",
       "        vertical-align: top;\n",
       "    }\n",
       "\n",
       "    .dataframe thead th {\n",
       "        text-align: right;\n",
       "    }\n",
       "</style>\n",
       "<table border=\"1\" class=\"dataframe\">\n",
       "  <thead>\n",
       "    <tr style=\"text-align: right;\">\n",
       "      <th></th>\n",
       "      <th>transitable</th>\n",
       "      <th>Inundado</th>\n",
       "    </tr>\n",
       "  </thead>\n",
       "  <tbody>\n",
       "    <tr>\n",
       "      <th>22</th>\n",
       "      <td>No</td>\n",
       "      <td>Si</td>\n",
       "    </tr>\n",
       "    <tr>\n",
       "      <th>0</th>\n",
       "      <td>No</td>\n",
       "      <td>Si</td>\n",
       "    </tr>\n",
       "    <tr>\n",
       "      <th>49</th>\n",
       "      <td>No</td>\n",
       "      <td>No</td>\n",
       "    </tr>\n",
       "    <tr>\n",
       "      <th>4</th>\n",
       "      <td>No</td>\n",
       "      <td>Si</td>\n",
       "    </tr>\n",
       "    <tr>\n",
       "      <th>54</th>\n",
       "      <td>Si</td>\n",
       "      <td>No</td>\n",
       "    </tr>\n",
       "  </tbody>\n",
       "</table>\n",
       "</div>"
      ],
      "text/plain": [
       "   transitable Inundado\n",
       "22          No       Si\n",
       "0           No       Si\n",
       "49          No       No\n",
       "4           No       Si\n",
       "54          Si       No"
      ]
     },
     "execution_count": 97,
     "metadata": {},
     "output_type": "execute_result"
    }
   ],
   "source": [
    "y.sample(5, random_state=seed)"
   ]
  },
  {
   "cell_type": "markdown",
   "metadata": {},
   "source": [
    "Por último, `dividimos` el conjunto de datos en entrenamiento y prueba mediante un *holdout* estratificado:"
   ]
  },
  {
   "cell_type": "code",
   "execution_count": 98,
   "metadata": {},
   "outputs": [],
   "source": [
    "test_size = 0.10\n",
    "\n",
    "X_train, X_test, y_train, y_test = train_test_split(X, y, test_size=test_size, random_state=seed, stratify=y)"
   ]
  },
  {
   "cell_type": "code",
   "execution_count": 99,
   "metadata": {},
   "outputs": [
    {
     "name": "stdout",
     "output_type": "stream",
     "text": [
      "[70, 54, 40, 4, 63, 36, 31, 18, 7, 68, 55, 69, 64, 48, 14, 52, 8, 20, 23, 11, 6, 39, 22, 16, 46, 53, 38, 28, 44, 17, 59, 32, 66, 29, 49, 42, 35, 30, 51, 3, 57, 26, 27, 21, 19, 62, 43, 13, 60, 5, 67, 33, 34, 65, 24, 37, 25, 47, 15, 61, 10, 41, 9]\n"
     ]
    },
    {
     "data": {
      "text/plain": [
       "'sin_procesar\\\\10.jpg'"
      ]
     },
     "execution_count": 99,
     "metadata": {},
     "output_type": "execute_result"
    }
   ],
   "source": [
    "# Obtener los nombres de las imágenes en X_train\n",
    "image_id = X_train['ID'].tolist()\n",
    "# Imprimir los nombres de las imágenes\n",
    "print(image_id)\n",
    "image_names = []\n",
    "# recorremos la lista de nombres de las images y creamos una lista con las imagenes de image_names\n",
    "for i in image_id:\n",
    "    image_names.append(str(i)+'.jpg')\n",
    "    \n",
    "images_train = []\n",
    "for img in images:\n",
    "    if img.filename.split(\"\\\\\")[-1] in image_names:\n",
    "        images_train.append(img)\n",
    "images_train[0].filename"
   ]
  },
  {
   "cell_type": "markdown",
   "metadata": {},
   "source": [
    "Y nos aseguramos que se ha realizado adecuadamente. Comenzamos con el conjunto de datos de entrenamiento:"
   ]
  },
  {
   "cell_type": "code",
   "execution_count": 100,
   "metadata": {},
   "outputs": [
    {
     "data": {
      "text/html": [
       "<div>\n",
       "<style scoped>\n",
       "    .dataframe tbody tr th:only-of-type {\n",
       "        vertical-align: middle;\n",
       "    }\n",
       "\n",
       "    .dataframe tbody tr th {\n",
       "        vertical-align: top;\n",
       "    }\n",
       "\n",
       "    .dataframe thead th {\n",
       "        text-align: right;\n",
       "    }\n",
       "</style>\n",
       "<table border=\"1\" class=\"dataframe\">\n",
       "  <thead>\n",
       "    <tr style=\"text-align: right;\">\n",
       "      <th></th>\n",
       "      <th>URL imagen</th>\n",
       "      <th>ID</th>\n",
       "      <th>formarURL</th>\n",
       "      <th>InundadoJm</th>\n",
       "      <th>TransitableJm</th>\n",
       "      <th>InundadoA</th>\n",
       "      <th>TransitableA</th>\n",
       "      <th>InundadoI</th>\n",
       "      <th>TransitableI</th>\n",
       "      <th>InundadoJ</th>\n",
       "      <th>TransitableJ</th>\n",
       "      <th>InundadoC</th>\n",
       "      <th>TransitableC</th>\n",
       "    </tr>\n",
       "  </thead>\n",
       "  <tbody>\n",
       "    <tr>\n",
       "      <th>40</th>\n",
       "      <td>Imagen</td>\n",
       "      <td>41</td>\n",
       "      <td>https://raw.githubusercontent.com/alenavarroxp...</td>\n",
       "      <td>No</td>\n",
       "      <td>No</td>\n",
       "      <td>No</td>\n",
       "      <td>No</td>\n",
       "      <td>No</td>\n",
       "      <td>No</td>\n",
       "      <td>No</td>\n",
       "      <td>No</td>\n",
       "      <td>No</td>\n",
       "      <td>No</td>\n",
       "    </tr>\n",
       "    <tr>\n",
       "      <th>46</th>\n",
       "      <td>Imagen</td>\n",
       "      <td>47</td>\n",
       "      <td>https://raw.githubusercontent.com/alenavarroxp...</td>\n",
       "      <td>No</td>\n",
       "      <td>No</td>\n",
       "      <td>No</td>\n",
       "      <td>No</td>\n",
       "      <td>No</td>\n",
       "      <td>Si</td>\n",
       "      <td>No</td>\n",
       "      <td>No</td>\n",
       "      <td>No</td>\n",
       "      <td>No</td>\n",
       "    </tr>\n",
       "    <tr>\n",
       "      <th>69</th>\n",
       "      <td>Imagen</td>\n",
       "      <td>70</td>\n",
       "      <td>https://raw.githubusercontent.com/alenavarroxp...</td>\n",
       "      <td>No</td>\n",
       "      <td>Si</td>\n",
       "      <td>No</td>\n",
       "      <td>Si</td>\n",
       "      <td>No</td>\n",
       "      <td>Si</td>\n",
       "      <td>No</td>\n",
       "      <td>Si</td>\n",
       "      <td>No</td>\n",
       "      <td>NaN</td>\n",
       "    </tr>\n",
       "    <tr>\n",
       "      <th>20</th>\n",
       "      <td>Imagen</td>\n",
       "      <td>21</td>\n",
       "      <td>https://raw.githubusercontent.com/alenavarroxp...</td>\n",
       "      <td>Si</td>\n",
       "      <td>No</td>\n",
       "      <td>Si</td>\n",
       "      <td>No</td>\n",
       "      <td>Si</td>\n",
       "      <td>No</td>\n",
       "      <td>Si</td>\n",
       "      <td>No</td>\n",
       "      <td>Si</td>\n",
       "      <td>No</td>\n",
       "    </tr>\n",
       "    <tr>\n",
       "      <th>35</th>\n",
       "      <td>Imagen</td>\n",
       "      <td>36</td>\n",
       "      <td>https://raw.githubusercontent.com/alenavarroxp...</td>\n",
       "      <td>No</td>\n",
       "      <td>No</td>\n",
       "      <td>No</td>\n",
       "      <td>No</td>\n",
       "      <td>No</td>\n",
       "      <td>Si</td>\n",
       "      <td>No</td>\n",
       "      <td>Si</td>\n",
       "      <td>No</td>\n",
       "      <td>No</td>\n",
       "    </tr>\n",
       "  </tbody>\n",
       "</table>\n",
       "</div>"
      ],
      "text/plain": [
       "   URL imagen  ID                                          formarURL  \\\n",
       "40     Imagen  41  https://raw.githubusercontent.com/alenavarroxp...   \n",
       "46     Imagen  47  https://raw.githubusercontent.com/alenavarroxp...   \n",
       "69     Imagen  70  https://raw.githubusercontent.com/alenavarroxp...   \n",
       "20     Imagen  21  https://raw.githubusercontent.com/alenavarroxp...   \n",
       "35     Imagen  36  https://raw.githubusercontent.com/alenavarroxp...   \n",
       "\n",
       "   InundadoJm TransitableJm InundadoA TransitableA InundadoI TransitableI  \\\n",
       "40         No            No        No           No        No           No   \n",
       "46         No            No        No           No        No           Si   \n",
       "69         No            Si        No           Si        No           Si   \n",
       "20         Si            No        Si           No        Si           No   \n",
       "35         No            No        No           No        No           Si   \n",
       "\n",
       "   InundadoJ TransitableJ InundadoC TransitableC  \n",
       "40        No           No        No           No  \n",
       "46        No           No        No           No  \n",
       "69        No           Si        No          NaN  \n",
       "20        Si           No        Si           No  \n",
       "35        No           Si        No           No  "
      ]
     },
     "execution_count": 100,
     "metadata": {},
     "output_type": "execute_result"
    }
   ],
   "source": [
    "X_train.sample(5, random_state=seed)"
   ]
  },
  {
   "cell_type": "code",
   "execution_count": 101,
   "metadata": {},
   "outputs": [
    {
     "data": {
      "text/html": [
       "<div>\n",
       "<style scoped>\n",
       "    .dataframe tbody tr th:only-of-type {\n",
       "        vertical-align: middle;\n",
       "    }\n",
       "\n",
       "    .dataframe tbody tr th {\n",
       "        vertical-align: top;\n",
       "    }\n",
       "\n",
       "    .dataframe thead th {\n",
       "        text-align: right;\n",
       "    }\n",
       "</style>\n",
       "<table border=\"1\" class=\"dataframe\">\n",
       "  <thead>\n",
       "    <tr style=\"text-align: right;\">\n",
       "      <th></th>\n",
       "      <th>transitable</th>\n",
       "      <th>Inundado</th>\n",
       "    </tr>\n",
       "  </thead>\n",
       "  <tbody>\n",
       "    <tr>\n",
       "      <th>40</th>\n",
       "      <td>No</td>\n",
       "      <td>No</td>\n",
       "    </tr>\n",
       "    <tr>\n",
       "      <th>46</th>\n",
       "      <td>No</td>\n",
       "      <td>No</td>\n",
       "    </tr>\n",
       "    <tr>\n",
       "      <th>69</th>\n",
       "      <td>Si</td>\n",
       "      <td>No</td>\n",
       "    </tr>\n",
       "    <tr>\n",
       "      <th>20</th>\n",
       "      <td>No</td>\n",
       "      <td>Si</td>\n",
       "    </tr>\n",
       "    <tr>\n",
       "      <th>35</th>\n",
       "      <td>No</td>\n",
       "      <td>No</td>\n",
       "    </tr>\n",
       "  </tbody>\n",
       "</table>\n",
       "</div>"
      ],
      "text/plain": [
       "   transitable Inundado\n",
       "40          No       No\n",
       "46          No       No\n",
       "69          Si       No\n",
       "20          No       Si\n",
       "35          No       No"
      ]
     },
     "execution_count": 101,
     "metadata": {},
     "output_type": "execute_result"
    }
   ],
   "source": [
    "y_train.sample(5, random_state=seed)"
   ]
  },
  {
   "cell_type": "markdown",
   "metadata": {},
   "source": [
    "Y finalizamos con el conjunto de datos de prueba:"
   ]
  },
  {
   "cell_type": "code",
   "execution_count": 102,
   "metadata": {},
   "outputs": [
    {
     "data": {
      "text/html": [
       "<div>\n",
       "<style scoped>\n",
       "    .dataframe tbody tr th:only-of-type {\n",
       "        vertical-align: middle;\n",
       "    }\n",
       "\n",
       "    .dataframe tbody tr th {\n",
       "        vertical-align: top;\n",
       "    }\n",
       "\n",
       "    .dataframe thead th {\n",
       "        text-align: right;\n",
       "    }\n",
       "</style>\n",
       "<table border=\"1\" class=\"dataframe\">\n",
       "  <thead>\n",
       "    <tr style=\"text-align: right;\">\n",
       "      <th></th>\n",
       "      <th>URL imagen</th>\n",
       "      <th>ID</th>\n",
       "      <th>formarURL</th>\n",
       "      <th>InundadoJm</th>\n",
       "      <th>TransitableJm</th>\n",
       "      <th>InundadoA</th>\n",
       "      <th>TransitableA</th>\n",
       "      <th>InundadoI</th>\n",
       "      <th>TransitableI</th>\n",
       "      <th>InundadoJ</th>\n",
       "      <th>TransitableJ</th>\n",
       "      <th>InundadoC</th>\n",
       "      <th>TransitableC</th>\n",
       "    </tr>\n",
       "  </thead>\n",
       "  <tbody>\n",
       "    <tr>\n",
       "      <th>11</th>\n",
       "      <td>Imagen</td>\n",
       "      <td>12</td>\n",
       "      <td>https://raw.githubusercontent.com/alenavarroxp...</td>\n",
       "      <td>Si</td>\n",
       "      <td>Si</td>\n",
       "      <td>Si</td>\n",
       "      <td>Si</td>\n",
       "      <td>Si</td>\n",
       "      <td>Si</td>\n",
       "      <td>Si</td>\n",
       "      <td>No</td>\n",
       "      <td>Si</td>\n",
       "      <td>No</td>\n",
       "    </tr>\n",
       "    <tr>\n",
       "      <th>49</th>\n",
       "      <td>Imagen</td>\n",
       "      <td>50</td>\n",
       "      <td>https://raw.githubusercontent.com/alenavarroxp...</td>\n",
       "      <td>No</td>\n",
       "      <td>No</td>\n",
       "      <td>No</td>\n",
       "      <td>No</td>\n",
       "      <td>No</td>\n",
       "      <td>No</td>\n",
       "      <td>No</td>\n",
       "      <td>No</td>\n",
       "      <td>No</td>\n",
       "      <td>No</td>\n",
       "    </tr>\n",
       "    <tr>\n",
       "      <th>57</th>\n",
       "      <td>Imagen</td>\n",
       "      <td>58</td>\n",
       "      <td>https://raw.githubusercontent.com/alenavarroxp...</td>\n",
       "      <td>No</td>\n",
       "      <td>Si</td>\n",
       "      <td>No</td>\n",
       "      <td>Si</td>\n",
       "      <td>No</td>\n",
       "      <td>Si</td>\n",
       "      <td>No</td>\n",
       "      <td>Si</td>\n",
       "      <td>No</td>\n",
       "      <td>Si</td>\n",
       "    </tr>\n",
       "    <tr>\n",
       "      <th>1</th>\n",
       "      <td>Imagen</td>\n",
       "      <td>2</td>\n",
       "      <td>https://raw.githubusercontent.com/alenavarroxp...</td>\n",
       "      <td>Si</td>\n",
       "      <td>No</td>\n",
       "      <td>Si</td>\n",
       "      <td>No</td>\n",
       "      <td>Si</td>\n",
       "      <td>No</td>\n",
       "      <td>Si</td>\n",
       "      <td>No</td>\n",
       "      <td>Si</td>\n",
       "      <td>No</td>\n",
       "    </tr>\n",
       "    <tr>\n",
       "      <th>0</th>\n",
       "      <td>Imagen</td>\n",
       "      <td>1</td>\n",
       "      <td>https://raw.githubusercontent.com/alenavarroxp...</td>\n",
       "      <td>Si</td>\n",
       "      <td>No</td>\n",
       "      <td>Si</td>\n",
       "      <td>No</td>\n",
       "      <td>Si</td>\n",
       "      <td>No</td>\n",
       "      <td>Si</td>\n",
       "      <td>No</td>\n",
       "      <td>Si</td>\n",
       "      <td>No</td>\n",
       "    </tr>\n",
       "  </tbody>\n",
       "</table>\n",
       "</div>"
      ],
      "text/plain": [
       "   URL imagen  ID                                          formarURL  \\\n",
       "11     Imagen  12  https://raw.githubusercontent.com/alenavarroxp...   \n",
       "49     Imagen  50  https://raw.githubusercontent.com/alenavarroxp...   \n",
       "57     Imagen  58  https://raw.githubusercontent.com/alenavarroxp...   \n",
       "1      Imagen   2  https://raw.githubusercontent.com/alenavarroxp...   \n",
       "0      Imagen   1  https://raw.githubusercontent.com/alenavarroxp...   \n",
       "\n",
       "   InundadoJm TransitableJm InundadoA TransitableA InundadoI TransitableI  \\\n",
       "11         Si            Si        Si           Si        Si           Si   \n",
       "49         No            No        No           No        No           No   \n",
       "57         No            Si        No           Si        No           Si   \n",
       "1          Si            No        Si           No        Si           No   \n",
       "0          Si            No        Si           No        Si           No   \n",
       "\n",
       "   InundadoJ TransitableJ InundadoC TransitableC  \n",
       "11        Si           No        Si           No  \n",
       "49        No           No        No           No  \n",
       "57        No           Si        No           Si  \n",
       "1         Si           No        Si           No  \n",
       "0         Si           No        Si           No  "
      ]
     },
     "execution_count": 102,
     "metadata": {},
     "output_type": "execute_result"
    }
   ],
   "source": [
    "X_test.sample(5, random_state=seed)"
   ]
  },
  {
   "cell_type": "code",
   "execution_count": 103,
   "metadata": {},
   "outputs": [
    {
     "data": {
      "text/html": [
       "<div>\n",
       "<style scoped>\n",
       "    .dataframe tbody tr th:only-of-type {\n",
       "        vertical-align: middle;\n",
       "    }\n",
       "\n",
       "    .dataframe tbody tr th {\n",
       "        vertical-align: top;\n",
       "    }\n",
       "\n",
       "    .dataframe thead th {\n",
       "        text-align: right;\n",
       "    }\n",
       "</style>\n",
       "<table border=\"1\" class=\"dataframe\">\n",
       "  <thead>\n",
       "    <tr style=\"text-align: right;\">\n",
       "      <th></th>\n",
       "      <th>transitable</th>\n",
       "      <th>Inundado</th>\n",
       "    </tr>\n",
       "  </thead>\n",
       "  <tbody>\n",
       "    <tr>\n",
       "      <th>11</th>\n",
       "      <td>Si</td>\n",
       "      <td>Si</td>\n",
       "    </tr>\n",
       "    <tr>\n",
       "      <th>49</th>\n",
       "      <td>No</td>\n",
       "      <td>No</td>\n",
       "    </tr>\n",
       "    <tr>\n",
       "      <th>57</th>\n",
       "      <td>Si</td>\n",
       "      <td>No</td>\n",
       "    </tr>\n",
       "    <tr>\n",
       "      <th>1</th>\n",
       "      <td>No</td>\n",
       "      <td>Si</td>\n",
       "    </tr>\n",
       "    <tr>\n",
       "      <th>0</th>\n",
       "      <td>No</td>\n",
       "      <td>Si</td>\n",
       "    </tr>\n",
       "  </tbody>\n",
       "</table>\n",
       "</div>"
      ],
      "text/plain": [
       "   transitable Inundado\n",
       "11          Si       Si\n",
       "49          No       No\n",
       "57          Si       No\n",
       "1           No       Si\n",
       "0           No       Si"
      ]
     },
     "execution_count": 103,
     "metadata": {},
     "output_type": "execute_result"
    }
   ],
   "source": [
    "y_test.sample(5, random_state=seed)"
   ]
  },
  {
   "cell_type": "markdown",
   "metadata": {},
   "source": [
    "Se borran las etiquetas que no aportan informacion"
   ]
  },
  {
   "cell_type": "code",
   "execution_count": 104,
   "metadata": {},
   "outputs": [],
   "source": [
    "etiquetas=['URL imagen,formarURL,InundadoJm,TransitableJm,InundadoA,TransitableA,InundadoI,TransitableI,InundadoJ,TransitableJ,InundadoC,TransitableC'] "
   ]
  },
  {
   "cell_type": "code",
   "execution_count": 105,
   "metadata": {},
   "outputs": [
    {
     "name": "stdout",
     "output_type": "stream",
     "text": [
      "['URL imagen,formarURL,InundadoJm,TransitableJm,InundadoA,TransitableA,InundadoI,TransitableI,InundadoJ,TransitableJ,InundadoC,TransitableC']\n"
     ]
    }
   ],
   "source": [
    "print(etiquetas)"
   ]
  },
  {
   "cell_type": "code",
   "execution_count": 106,
   "metadata": {},
   "outputs": [
    {
     "name": "stdout",
     "output_type": "stream",
     "text": [
      "Index(['URL imagen', 'ID', 'formarURL', 'InundadoJm', 'TransitableJm',\n",
      "       'InundadoA', 'TransitableA', 'InundadoI', 'TransitableI', 'InundadoJ',\n",
      "       'TransitableJ', 'InundadoC', 'TransitableC'],\n",
      "      dtype='object')\n"
     ]
    }
   ],
   "source": [
    "print(X_train.columns)"
   ]
  },
  {
   "cell_type": "markdown",
   "metadata": {},
   "source": [
    "# ELIMINACIÓN DE VARIABLES"
   ]
  },
  {
   "cell_type": "markdown",
   "metadata": {},
   "source": [
    "vamos a `eliminar` las variables que no aportan información con la ayuda de un `pipeline`."
   ]
  },
  {
   "cell_type": "code",
   "execution_count": 107,
   "metadata": {},
   "outputs": [],
   "source": [
    "def drop_columns(X, etiquetas):\n",
    "    # Convertir el string de 'etiquetas' en una lista de columnas\n",
    "    etiquetas = etiquetas[0].split(',')\n",
    "    \n",
    "    # Eliminar las columnas que existen en el dataframe\n",
    "    return X.drop(columns=etiquetas)"
   ]
  },
  {
   "cell_type": "code",
   "execution_count": 108,
   "metadata": {},
   "outputs": [
    {
     "data": {
      "text/html": [
       "<div>\n",
       "<style scoped>\n",
       "    .dataframe tbody tr th:only-of-type {\n",
       "        vertical-align: middle;\n",
       "    }\n",
       "\n",
       "    .dataframe tbody tr th {\n",
       "        vertical-align: top;\n",
       "    }\n",
       "\n",
       "    .dataframe thead th {\n",
       "        text-align: right;\n",
       "    }\n",
       "</style>\n",
       "<table border=\"1\" class=\"dataframe\">\n",
       "  <thead>\n",
       "    <tr style=\"text-align: right;\">\n",
       "      <th></th>\n",
       "      <th>ID</th>\n",
       "    </tr>\n",
       "  </thead>\n",
       "  <tbody>\n",
       "    <tr>\n",
       "      <th>40</th>\n",
       "      <td>41</td>\n",
       "    </tr>\n",
       "    <tr>\n",
       "      <th>46</th>\n",
       "      <td>47</td>\n",
       "    </tr>\n",
       "    <tr>\n",
       "      <th>69</th>\n",
       "      <td>70</td>\n",
       "    </tr>\n",
       "    <tr>\n",
       "      <th>20</th>\n",
       "      <td>21</td>\n",
       "    </tr>\n",
       "    <tr>\n",
       "      <th>35</th>\n",
       "      <td>36</td>\n",
       "    </tr>\n",
       "  </tbody>\n",
       "</table>\n",
       "</div>"
      ],
      "text/plain": [
       "    ID\n",
       "40  41\n",
       "46  47\n",
       "69  70\n",
       "20  21\n",
       "35  36"
      ]
     },
     "execution_count": 108,
     "metadata": {},
     "output_type": "execute_result"
    }
   ],
   "source": [
    "X_train=drop_columns(X_train, etiquetas)\n",
    "X_train.sample(5, random_state=seed)"
   ]
  },
  {
   "cell_type": "code",
   "execution_count": 109,
   "metadata": {},
   "outputs": [
    {
     "data": {
      "text/html": [
       "<div>\n",
       "<style scoped>\n",
       "    .dataframe tbody tr th:only-of-type {\n",
       "        vertical-align: middle;\n",
       "    }\n",
       "\n",
       "    .dataframe tbody tr th {\n",
       "        vertical-align: top;\n",
       "    }\n",
       "\n",
       "    .dataframe thead th {\n",
       "        text-align: right;\n",
       "    }\n",
       "</style>\n",
       "<table border=\"1\" class=\"dataframe\">\n",
       "  <thead>\n",
       "    <tr style=\"text-align: right;\">\n",
       "      <th></th>\n",
       "      <th>ID</th>\n",
       "    </tr>\n",
       "  </thead>\n",
       "  <tbody>\n",
       "    <tr>\n",
       "      <th>11</th>\n",
       "      <td>12</td>\n",
       "    </tr>\n",
       "    <tr>\n",
       "      <th>49</th>\n",
       "      <td>50</td>\n",
       "    </tr>\n",
       "    <tr>\n",
       "      <th>57</th>\n",
       "      <td>58</td>\n",
       "    </tr>\n",
       "    <tr>\n",
       "      <th>1</th>\n",
       "      <td>2</td>\n",
       "    </tr>\n",
       "    <tr>\n",
       "      <th>0</th>\n",
       "      <td>1</td>\n",
       "    </tr>\n",
       "  </tbody>\n",
       "</table>\n",
       "</div>"
      ],
      "text/plain": [
       "    ID\n",
       "11  12\n",
       "49  50\n",
       "57  58\n",
       "1    2\n",
       "0    1"
      ]
     },
     "execution_count": 109,
     "metadata": {},
     "output_type": "execute_result"
    }
   ],
   "source": [
    "X_test=drop_columns(X_test, etiquetas)\n",
    "X_test.sample(5, random_state=seed)"
   ]
  },
  {
   "cell_type": "markdown",
   "metadata": {},
   "source": [
    "# ENCODER y_train e y_test"
   ]
  },
  {
   "cell_type": "code",
   "execution_count": 110,
   "metadata": {},
   "outputs": [
    {
     "name": "stderr",
     "output_type": "stream",
     "text": [
      "C:\\Users\\Juanmi\\AppData\\Local\\Temp\\ipykernel_25324\\1745860845.py:1: FutureWarning: DataFrame.applymap has been deprecated. Use DataFrame.map instead.\n",
      "  y_train = y_train.applymap(lambda x: 1 if x == \"Si\" else (0 if x == \"No\" else x))\n"
     ]
    },
    {
     "data": {
      "text/html": [
       "<div>\n",
       "<style scoped>\n",
       "    .dataframe tbody tr th:only-of-type {\n",
       "        vertical-align: middle;\n",
       "    }\n",
       "\n",
       "    .dataframe tbody tr th {\n",
       "        vertical-align: top;\n",
       "    }\n",
       "\n",
       "    .dataframe thead th {\n",
       "        text-align: right;\n",
       "    }\n",
       "</style>\n",
       "<table border=\"1\" class=\"dataframe\">\n",
       "  <thead>\n",
       "    <tr style=\"text-align: right;\">\n",
       "      <th></th>\n",
       "      <th>transitable</th>\n",
       "      <th>Inundado</th>\n",
       "    </tr>\n",
       "  </thead>\n",
       "  <tbody>\n",
       "    <tr>\n",
       "      <th>69</th>\n",
       "      <td>1</td>\n",
       "      <td>0</td>\n",
       "    </tr>\n",
       "    <tr>\n",
       "      <th>53</th>\n",
       "      <td>1</td>\n",
       "      <td>0</td>\n",
       "    </tr>\n",
       "    <tr>\n",
       "      <th>39</th>\n",
       "      <td>0</td>\n",
       "      <td>0</td>\n",
       "    </tr>\n",
       "    <tr>\n",
       "      <th>3</th>\n",
       "      <td>0</td>\n",
       "      <td>1</td>\n",
       "    </tr>\n",
       "    <tr>\n",
       "      <th>62</th>\n",
       "      <td>1</td>\n",
       "      <td>0</td>\n",
       "    </tr>\n",
       "  </tbody>\n",
       "</table>\n",
       "</div>"
      ],
      "text/plain": [
       "    transitable  Inundado\n",
       "69            1         0\n",
       "53            1         0\n",
       "39            0         0\n",
       "3             0         1\n",
       "62            1         0"
      ]
     },
     "execution_count": 110,
     "metadata": {},
     "output_type": "execute_result"
    }
   ],
   "source": [
    "y_train = y_train.applymap(lambda x: 1 if x == \"Si\" else (0 if x == \"No\" else x))\n",
    "y_train.head()"
   ]
  },
  {
   "cell_type": "code",
   "execution_count": 111,
   "metadata": {},
   "outputs": [
    {
     "name": "stderr",
     "output_type": "stream",
     "text": [
      "C:\\Users\\Juanmi\\AppData\\Local\\Temp\\ipykernel_25324\\3414226292.py:1: FutureWarning: DataFrame.applymap has been deprecated. Use DataFrame.map instead.\n",
      "  y_test = y_test.applymap(lambda x: 1 if x == \"Si\" else (0 if x == \"No\" else x))\n"
     ]
    },
    {
     "data": {
      "text/html": [
       "<div>\n",
       "<style scoped>\n",
       "    .dataframe tbody tr th:only-of-type {\n",
       "        vertical-align: middle;\n",
       "    }\n",
       "\n",
       "    .dataframe tbody tr th {\n",
       "        vertical-align: top;\n",
       "    }\n",
       "\n",
       "    .dataframe thead th {\n",
       "        text-align: right;\n",
       "    }\n",
       "</style>\n",
       "<table border=\"1\" class=\"dataframe\">\n",
       "  <thead>\n",
       "    <tr style=\"text-align: right;\">\n",
       "      <th></th>\n",
       "      <th>transitable</th>\n",
       "      <th>Inundado</th>\n",
       "    </tr>\n",
       "  </thead>\n",
       "  <tbody>\n",
       "    <tr>\n",
       "      <th>11</th>\n",
       "      <td>1</td>\n",
       "      <td>1</td>\n",
       "    </tr>\n",
       "    <tr>\n",
       "      <th>49</th>\n",
       "      <td>0</td>\n",
       "      <td>0</td>\n",
       "    </tr>\n",
       "    <tr>\n",
       "      <th>1</th>\n",
       "      <td>0</td>\n",
       "      <td>1</td>\n",
       "    </tr>\n",
       "    <tr>\n",
       "      <th>44</th>\n",
       "      <td>0</td>\n",
       "      <td>0</td>\n",
       "    </tr>\n",
       "    <tr>\n",
       "      <th>0</th>\n",
       "      <td>0</td>\n",
       "      <td>1</td>\n",
       "    </tr>\n",
       "  </tbody>\n",
       "</table>\n",
       "</div>"
      ],
      "text/plain": [
       "    transitable  Inundado\n",
       "11            1         1\n",
       "49            0         0\n",
       "1             0         1\n",
       "44            0         0\n",
       "0             0         1"
      ]
     },
     "execution_count": 111,
     "metadata": {},
     "output_type": "execute_result"
    }
   ],
   "source": [
    "y_test = y_test.applymap(lambda x: 1 if x == \"Si\" else (0 if x == \"No\" else x))\n",
    "y_test.head()"
   ]
  },
  {
   "cell_type": "markdown",
   "metadata": {},
   "source": [
    "# TRANSFORMACION DE LAS IMÁGENES"
   ]
  },
  {
   "cell_type": "code",
   "execution_count": 112,
   "metadata": {},
   "outputs": [
    {
     "name": "stdout",
     "output_type": "stream",
     "text": [
      "Número total de imágenes aumentadas: 252\n"
     ]
    },
    {
     "data": {
      "text/plain": [
       "'180_10.jpg'"
      ]
     },
     "execution_count": 112,
     "metadata": {},
     "output_type": "execute_result"
    }
   ],
   "source": [
    "# Convertir imágenes a escala de grises y rotarlas\n",
    "augmented_images = []\n",
    "\n",
    "for img in images_train:\n",
    "    # Convertir a escala de grises\n",
    "    gray_img = img.convert('L')\n",
    "    gray_img.filename = \"0_\"+img.filename.split(\"\\\\\")[-1]\n",
    "    \n",
    "    # Rotar la imagen 90º, 180º y 270º\n",
    "    rotated_90 = gray_img.rotate(90)\n",
    "    rotated_180 = gray_img.rotate(180)\n",
    "    rotated_270 = gray_img.rotate(270)\n",
    "    rotated_90.filename = \"90_\"+img.filename.split(\"\\\\\")[-1]\n",
    "    rotated_180.filename = \"180_\"+img.filename.split(\"\\\\\")[-1]\n",
    "    rotated_270.filename = \"270_\"+img.filename.split(\"\\\\\")[-1]\n",
    "    \n",
    "    # Añadir las imágenes originales y transformadas a la lista con filenames\n",
    "    augmented_images.extend([gray_img, rotated_90, rotated_180, rotated_270])\n",
    "\n",
    "# Imprimir el número de imágenes aumentadas\n",
    "print(f'Número total de imágenes aumentadas: {len(augmented_images)}')\n",
    "augmented_images[2].filename"
   ]
  },
  {
   "cell_type": "code",
   "execution_count": 113,
   "metadata": {},
   "outputs": [
    {
     "name": "stdout",
     "output_type": "stream",
     "text": [
      "Se han guardado 252 imágenes en la carpeta trainprocesados.\n"
     ]
    }
   ],
   "source": [
    "output_dir = 'trainprocesados'\n",
    "os.makedirs(output_dir, exist_ok=True)\n",
    "\n",
    "for img in augmented_images:\n",
    "    img.save(os.path.join(output_dir, img.filename.split(\"\\\\\")[-1]))\n",
    "\n",
    "print(f'Se han guardado {len(augmented_images)} imágenes en la carpeta {output_dir}.')"
   ]
  },
  {
   "cell_type": "code",
   "execution_count": 114,
   "metadata": {},
   "outputs": [],
   "source": [
    "# Crear la carpeta MetaData si no existe\n",
    "os.makedirs('MetaData', exist_ok=True)\n",
    "\n",
    "# Juntar X_train e y_train\n",
    "train_data = pd.concat([X_train, y_train], axis=1)\n",
    "\n",
    "\n",
    "# Juntar X_test e y_test\n",
    "test_data = pd.concat([X_test, y_test], axis=1)\n",
    "test_data.to_csv('MetaData/test_data.csv', index=False)\n"
   ]
  },
  {
   "cell_type": "markdown",
   "metadata": {},
   "source": [
    "# test_data se modifica para tener referencia a las imagenes de la carpeta de trainprocesados"
   ]
  },
  {
   "cell_type": "code",
   "execution_count": 115,
   "metadata": {},
   "outputs": [],
   "source": [
    "angles = [0, 90, 180, 270]\n",
    "expanded_data = []\n",
    "for _, row in train_data.iterrows():\n",
    "    for angle in angles:\n",
    "        expanded_data.append({\n",
    "            \"ID\": f\"{angle}_{row['ID']}\",\n",
    "            \"transitable\": row[\"transitable\"],\n",
    "            \"Inundado\": row[\"Inundado\"]\n",
    "        })\n",
    "\n",
    "# Convertir a DataFrame\n",
    "expanded_train_data = pd.DataFrame(expanded_data)"
   ]
  },
  {
   "cell_type": "code",
   "execution_count": 116,
   "metadata": {},
   "outputs": [
    {
     "name": "stdout",
     "output_type": "stream",
     "text": [
      "Los archivos CSV se han guardado en la carpeta MetaData.\n"
     ]
    }
   ],
   "source": [
    "expanded_train_data.to_csv('MetaData/train_data.csv', index=False)\n",
    "\n",
    "\n",
    "print('Los archivos CSV se han guardado en la carpeta MetaData.')"
   ]
  },
  {
   "cell_type": "markdown",
   "metadata": {},
   "source": [
    "# Para generar la validacion se utilizara Leave-One-Out (LOO), por lo que no se entregaran los datos de train,validadicon dado que para cada iteracion se utilizara un solo dato para validar y el resto para entrenar."
   ]
  },
  {
   "cell_type": "code",
   "execution_count": null,
   "metadata": {},
   "outputs": [],
   "source": [
    "# Crear el objeto LeaveOneOut\n",
    "loo = LeaveOneOut()\n",
    "\n",
    "# Separar las características y las etiquetas\n",
    "X = expanded_train_data.drop(columns=['transitable', 'Inundado'])\n",
    "y = expanded_train_data[['transitable', 'Inundado']]\n",
    "\n",
    "# Convertir a numpy arrays\n",
    "X = X.values\n",
    "y = y.values\n",
    "\n",
    "# Iterar sobre cada split de LOO\n",
    "#for train_index, test_index in loo.split(X):\n",
    "#    X_train, X_test = X[train_index], X[test_index]\n",
    "#    y_train, y_test = y[train_index], y[test_index]\n",
    "    \n",
    "    # aqui se continuaria con el entrenamiento del modelo"
   ]
  }
 ],
 "metadata": {
  "kernelspec": {
   "display_name": "Mineria",
   "language": "python",
   "name": "python3"
  },
  "language_info": {
   "codemirror_mode": {
    "name": "ipython",
    "version": 3
   },
   "file_extension": ".py",
   "mimetype": "text/x-python",
   "name": "python",
   "nbconvert_exporter": "python",
   "pygments_lexer": "ipython3",
   "version": "3.10.13"
  }
 },
 "nbformat": 4,
 "nbformat_minor": 2
}

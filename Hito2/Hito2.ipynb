{
 "cells": [
  {
   "cell_type": "markdown",
   "metadata": {},
   "source": [
    "Establecemos una ``semilla`` que nos permitirá hacer que los experimentos sean reproducibles."
   ]
  },
  {
   "cell_type": "code",
   "execution_count": 1,
   "metadata": {},
   "outputs": [],
   "source": [
    "#semilla\n",
    "seed = 42"
   ]
  },
  {
   "cell_type": "markdown",
   "metadata": {},
   "source": [
    "Realizamos todas las `importaciones` necesarias."
   ]
  },
  {
   "cell_type": "code",
   "execution_count": 2,
   "metadata": {},
   "outputs": [],
   "source": [
    "#Importamos las librerias\n",
    "from sklearn.model_selection import train_test_split\n",
    "from sklearn import set_config\n",
    "import matplotlib.pyplot as plt\n",
    "\n",
    "import pandas as pd\n",
    "\n",
    "import os\n",
    "from PIL import Image"
   ]
  },
  {
   "cell_type": "markdown",
   "metadata": {},
   "source": [
    "# 1.Carga de datos"
   ]
  },
  {
   "cell_type": "code",
   "execution_count": 3,
   "metadata": {},
   "outputs": [
    {
     "name": "stdout",
     "output_type": "stream",
     "text": [
      "Loaded 70 images.\n",
      "sin_procesar\\11.jpg\n"
     ]
    }
   ],
   "source": [
    "image_dir = 'sin_procesar'\n",
    "\n",
    "images = []\n",
    "\n",
    "for filename in os.listdir(image_dir):\n",
    "    if filename.endswith('.jpg'): \n",
    "        img_path = os.path.join(image_dir, filename)\n",
    "        img = Image.open(img_path)\n",
    "        images.append(img)\n",
    "\n",
    "# Print the number of images loaded\n",
    "print(f'Loaded {len(images)} images.')\n",
    "#indica el nombre de la imagen en la posicion 2\n",
    "print(images[2].filename)"
   ]
  },
  {
   "cell_type": "code",
   "execution_count": 4,
   "metadata": {},
   "outputs": [],
   "source": [
    "set_config(transform_output=\"pandas\")\n",
    "df = pd.read_csv('Hito2Datos.csv', delimiter=';')"
   ]
  },
  {
   "cell_type": "code",
   "execution_count": 5,
   "metadata": {
    "vscode": {
     "languageId": "ruby"
    }
   },
   "outputs": [
    {
     "name": "stdout",
     "output_type": "stream",
     "text": [
      "  URL imagen  ID Inundado transitable  \\\n",
      "0     Imagen   1       Si          No   \n",
      "1     Imagen   2       Si          No   \n",
      "2     Imagen   3       Si          No   \n",
      "3     Imagen   4       Si          No   \n",
      "4     Imagen   5       Si          No   \n",
      "\n",
      "                                           formarURL InundadoJm TransitableJm  \\\n",
      "0  https://raw.githubusercontent.com/alenavarroxp...         Si            No   \n",
      "1  https://raw.githubusercontent.com/alenavarroxp...         Si            No   \n",
      "2  https://raw.githubusercontent.com/alenavarroxp...         No            Si   \n",
      "3  https://raw.githubusercontent.com/alenavarroxp...         Si            No   \n",
      "4  https://raw.githubusercontent.com/alenavarroxp...         Si            No   \n",
      "\n",
      "  InundadoA TransitableA InundadoI TransitableI InundadoJ TransitableJ  \\\n",
      "0        Si           No        Si           No        Si           No   \n",
      "1        Si           No        Si           No        Si           No   \n",
      "2        Si           No        Si           No        Si           No   \n",
      "3        Si           No        Si           No        Si           No   \n",
      "4        Si           Si        Si           No        Si           No   \n",
      "\n",
      "  InundadoC TransitableC  \n",
      "0        Si           No  \n",
      "1        Si           No  \n",
      "2        No           Si  \n",
      "3        Si           No  \n",
      "4        Si           No  \n"
     ]
    }
   ],
   "source": [
    "# Definir las etiquetas\n",
    "etiquetas = ['URL imagen', 'ID', 'Inundado', 'transitable', 'formarURL', 'InundadoJm', 'TransitableJm', 'InundadoA', 'TransitableA', 'InundadoI', 'TransitableI', 'InundadoJ', 'TransitableJ', 'InundadoC', 'TransitableC']\n",
    "\n",
    "# Rellenar las columnas 'Inundado' y 'transitable' con valores de otras columnas\n",
    "df['Inundado'] = df[['InundadoJm', 'InundadoA', 'InundadoI', 'InundadoJ', 'InundadoC']].mode(axis=1)[0]\n",
    "df['transitable'] = df[['TransitableJm', 'TransitableA', 'TransitableI', 'TransitableJ', 'TransitableC']].mode(axis=1)[0]\n",
    "\n",
    "# Mostrar el dataframe actualizado\n",
    "print(df.head())"
   ]
  },
  {
   "cell_type": "markdown",
   "metadata": {},
   "source": [
    "Comprobando que se ha cargado correctamente:"
   ]
  },
  {
   "cell_type": "code",
   "execution_count": 6,
   "metadata": {},
   "outputs": [
    {
     "data": {
      "text/html": [
       "<div>\n",
       "<style scoped>\n",
       "    .dataframe tbody tr th:only-of-type {\n",
       "        vertical-align: middle;\n",
       "    }\n",
       "\n",
       "    .dataframe tbody tr th {\n",
       "        vertical-align: top;\n",
       "    }\n",
       "\n",
       "    .dataframe thead th {\n",
       "        text-align: right;\n",
       "    }\n",
       "</style>\n",
       "<table border=\"1\" class=\"dataframe\">\n",
       "  <thead>\n",
       "    <tr style=\"text-align: right;\">\n",
       "      <th></th>\n",
       "      <th>URL imagen</th>\n",
       "      <th>ID</th>\n",
       "      <th>Inundado</th>\n",
       "      <th>transitable</th>\n",
       "      <th>formarURL</th>\n",
       "      <th>InundadoJm</th>\n",
       "      <th>TransitableJm</th>\n",
       "      <th>InundadoA</th>\n",
       "      <th>TransitableA</th>\n",
       "      <th>InundadoI</th>\n",
       "      <th>TransitableI</th>\n",
       "      <th>InundadoJ</th>\n",
       "      <th>TransitableJ</th>\n",
       "      <th>InundadoC</th>\n",
       "      <th>TransitableC</th>\n",
       "    </tr>\n",
       "  </thead>\n",
       "  <tbody>\n",
       "    <tr>\n",
       "      <th>22</th>\n",
       "      <td>Imagen</td>\n",
       "      <td>23</td>\n",
       "      <td>Si</td>\n",
       "      <td>No</td>\n",
       "      <td>https://raw.githubusercontent.com/alenavarroxp...</td>\n",
       "      <td>Si</td>\n",
       "      <td>No</td>\n",
       "      <td>Si</td>\n",
       "      <td>Si</td>\n",
       "      <td>Si</td>\n",
       "      <td>No</td>\n",
       "      <td>Si</td>\n",
       "      <td>No</td>\n",
       "      <td>Si</td>\n",
       "      <td>No</td>\n",
       "    </tr>\n",
       "    <tr>\n",
       "      <th>0</th>\n",
       "      <td>Imagen</td>\n",
       "      <td>1</td>\n",
       "      <td>Si</td>\n",
       "      <td>No</td>\n",
       "      <td>https://raw.githubusercontent.com/alenavarroxp...</td>\n",
       "      <td>Si</td>\n",
       "      <td>No</td>\n",
       "      <td>Si</td>\n",
       "      <td>No</td>\n",
       "      <td>Si</td>\n",
       "      <td>No</td>\n",
       "      <td>Si</td>\n",
       "      <td>No</td>\n",
       "      <td>Si</td>\n",
       "      <td>No</td>\n",
       "    </tr>\n",
       "    <tr>\n",
       "      <th>49</th>\n",
       "      <td>Imagen</td>\n",
       "      <td>50</td>\n",
       "      <td>No</td>\n",
       "      <td>No</td>\n",
       "      <td>https://raw.githubusercontent.com/alenavarroxp...</td>\n",
       "      <td>No</td>\n",
       "      <td>No</td>\n",
       "      <td>No</td>\n",
       "      <td>No</td>\n",
       "      <td>No</td>\n",
       "      <td>No</td>\n",
       "      <td>No</td>\n",
       "      <td>No</td>\n",
       "      <td>No</td>\n",
       "      <td>No</td>\n",
       "    </tr>\n",
       "    <tr>\n",
       "      <th>4</th>\n",
       "      <td>Imagen</td>\n",
       "      <td>5</td>\n",
       "      <td>Si</td>\n",
       "      <td>No</td>\n",
       "      <td>https://raw.githubusercontent.com/alenavarroxp...</td>\n",
       "      <td>Si</td>\n",
       "      <td>No</td>\n",
       "      <td>Si</td>\n",
       "      <td>Si</td>\n",
       "      <td>Si</td>\n",
       "      <td>No</td>\n",
       "      <td>Si</td>\n",
       "      <td>No</td>\n",
       "      <td>Si</td>\n",
       "      <td>No</td>\n",
       "    </tr>\n",
       "    <tr>\n",
       "      <th>54</th>\n",
       "      <td>Imagen</td>\n",
       "      <td>55</td>\n",
       "      <td>No</td>\n",
       "      <td>Si</td>\n",
       "      <td>https://raw.githubusercontent.com/alenavarroxp...</td>\n",
       "      <td>No</td>\n",
       "      <td>Si</td>\n",
       "      <td>No</td>\n",
       "      <td>Si</td>\n",
       "      <td>No</td>\n",
       "      <td>Si</td>\n",
       "      <td>No</td>\n",
       "      <td>Si</td>\n",
       "      <td>No</td>\n",
       "      <td>Si</td>\n",
       "    </tr>\n",
       "  </tbody>\n",
       "</table>\n",
       "</div>"
      ],
      "text/plain": [
       "   URL imagen  ID Inundado transitable  \\\n",
       "22     Imagen  23       Si          No   \n",
       "0      Imagen   1       Si          No   \n",
       "49     Imagen  50       No          No   \n",
       "4      Imagen   5       Si          No   \n",
       "54     Imagen  55       No          Si   \n",
       "\n",
       "                                            formarURL InundadoJm  \\\n",
       "22  https://raw.githubusercontent.com/alenavarroxp...         Si   \n",
       "0   https://raw.githubusercontent.com/alenavarroxp...         Si   \n",
       "49  https://raw.githubusercontent.com/alenavarroxp...         No   \n",
       "4   https://raw.githubusercontent.com/alenavarroxp...         Si   \n",
       "54  https://raw.githubusercontent.com/alenavarroxp...         No   \n",
       "\n",
       "   TransitableJm InundadoA TransitableA InundadoI TransitableI InundadoJ  \\\n",
       "22            No        Si           Si        Si           No        Si   \n",
       "0             No        Si           No        Si           No        Si   \n",
       "49            No        No           No        No           No        No   \n",
       "4             No        Si           Si        Si           No        Si   \n",
       "54            Si        No           Si        No           Si        No   \n",
       "\n",
       "   TransitableJ InundadoC TransitableC  \n",
       "22           No        Si           No  \n",
       "0            No        Si           No  \n",
       "49           No        No           No  \n",
       "4            No        Si           No  \n",
       "54           Si        No           Si  "
      ]
     },
     "execution_count": 6,
     "metadata": {},
     "output_type": "execute_result"
    }
   ],
   "source": [
    "df.sample(5, random_state=seed)"
   ]
  },
  {
   "cell_type": "markdown",
   "metadata": {},
   "source": [
    "A continuación, creamos ``etiquetas`` para separar la variable objetivo del resto de variables."
   ]
  },
  {
   "cell_type": "code",
   "execution_count": 7,
   "metadata": {},
   "outputs": [],
   "source": [
    "target = [\"transitable\", \"Inundado\"]\n",
    "columns = target\n",
    "axis = \"columns\"\n",
    "\n",
    "arguments = {\"columns\": columns, \"axis\": axis}\n",
    "X, y = df.drop(**arguments), df[target]"
   ]
  },
  {
   "cell_type": "markdown",
   "metadata": {},
   "source": [
    "Vamos a comprobar que se ha separado correctamente. Comenzamos con las `variables predictoras`:"
   ]
  },
  {
   "cell_type": "code",
   "execution_count": 8,
   "metadata": {},
   "outputs": [
    {
     "data": {
      "text/html": [
       "<div>\n",
       "<style scoped>\n",
       "    .dataframe tbody tr th:only-of-type {\n",
       "        vertical-align: middle;\n",
       "    }\n",
       "\n",
       "    .dataframe tbody tr th {\n",
       "        vertical-align: top;\n",
       "    }\n",
       "\n",
       "    .dataframe thead th {\n",
       "        text-align: right;\n",
       "    }\n",
       "</style>\n",
       "<table border=\"1\" class=\"dataframe\">\n",
       "  <thead>\n",
       "    <tr style=\"text-align: right;\">\n",
       "      <th></th>\n",
       "      <th>URL imagen</th>\n",
       "      <th>ID</th>\n",
       "      <th>formarURL</th>\n",
       "      <th>InundadoJm</th>\n",
       "      <th>TransitableJm</th>\n",
       "      <th>InundadoA</th>\n",
       "      <th>TransitableA</th>\n",
       "      <th>InundadoI</th>\n",
       "      <th>TransitableI</th>\n",
       "      <th>InundadoJ</th>\n",
       "      <th>TransitableJ</th>\n",
       "      <th>InundadoC</th>\n",
       "      <th>TransitableC</th>\n",
       "    </tr>\n",
       "  </thead>\n",
       "  <tbody>\n",
       "    <tr>\n",
       "      <th>22</th>\n",
       "      <td>Imagen</td>\n",
       "      <td>23</td>\n",
       "      <td>https://raw.githubusercontent.com/alenavarroxp...</td>\n",
       "      <td>Si</td>\n",
       "      <td>No</td>\n",
       "      <td>Si</td>\n",
       "      <td>Si</td>\n",
       "      <td>Si</td>\n",
       "      <td>No</td>\n",
       "      <td>Si</td>\n",
       "      <td>No</td>\n",
       "      <td>Si</td>\n",
       "      <td>No</td>\n",
       "    </tr>\n",
       "    <tr>\n",
       "      <th>0</th>\n",
       "      <td>Imagen</td>\n",
       "      <td>1</td>\n",
       "      <td>https://raw.githubusercontent.com/alenavarroxp...</td>\n",
       "      <td>Si</td>\n",
       "      <td>No</td>\n",
       "      <td>Si</td>\n",
       "      <td>No</td>\n",
       "      <td>Si</td>\n",
       "      <td>No</td>\n",
       "      <td>Si</td>\n",
       "      <td>No</td>\n",
       "      <td>Si</td>\n",
       "      <td>No</td>\n",
       "    </tr>\n",
       "    <tr>\n",
       "      <th>49</th>\n",
       "      <td>Imagen</td>\n",
       "      <td>50</td>\n",
       "      <td>https://raw.githubusercontent.com/alenavarroxp...</td>\n",
       "      <td>No</td>\n",
       "      <td>No</td>\n",
       "      <td>No</td>\n",
       "      <td>No</td>\n",
       "      <td>No</td>\n",
       "      <td>No</td>\n",
       "      <td>No</td>\n",
       "      <td>No</td>\n",
       "      <td>No</td>\n",
       "      <td>No</td>\n",
       "    </tr>\n",
       "    <tr>\n",
       "      <th>4</th>\n",
       "      <td>Imagen</td>\n",
       "      <td>5</td>\n",
       "      <td>https://raw.githubusercontent.com/alenavarroxp...</td>\n",
       "      <td>Si</td>\n",
       "      <td>No</td>\n",
       "      <td>Si</td>\n",
       "      <td>Si</td>\n",
       "      <td>Si</td>\n",
       "      <td>No</td>\n",
       "      <td>Si</td>\n",
       "      <td>No</td>\n",
       "      <td>Si</td>\n",
       "      <td>No</td>\n",
       "    </tr>\n",
       "    <tr>\n",
       "      <th>54</th>\n",
       "      <td>Imagen</td>\n",
       "      <td>55</td>\n",
       "      <td>https://raw.githubusercontent.com/alenavarroxp...</td>\n",
       "      <td>No</td>\n",
       "      <td>Si</td>\n",
       "      <td>No</td>\n",
       "      <td>Si</td>\n",
       "      <td>No</td>\n",
       "      <td>Si</td>\n",
       "      <td>No</td>\n",
       "      <td>Si</td>\n",
       "      <td>No</td>\n",
       "      <td>Si</td>\n",
       "    </tr>\n",
       "  </tbody>\n",
       "</table>\n",
       "</div>"
      ],
      "text/plain": [
       "   URL imagen  ID                                          formarURL  \\\n",
       "22     Imagen  23  https://raw.githubusercontent.com/alenavarroxp...   \n",
       "0      Imagen   1  https://raw.githubusercontent.com/alenavarroxp...   \n",
       "49     Imagen  50  https://raw.githubusercontent.com/alenavarroxp...   \n",
       "4      Imagen   5  https://raw.githubusercontent.com/alenavarroxp...   \n",
       "54     Imagen  55  https://raw.githubusercontent.com/alenavarroxp...   \n",
       "\n",
       "   InundadoJm TransitableJm InundadoA TransitableA InundadoI TransitableI  \\\n",
       "22         Si            No        Si           Si        Si           No   \n",
       "0          Si            No        Si           No        Si           No   \n",
       "49         No            No        No           No        No           No   \n",
       "4          Si            No        Si           Si        Si           No   \n",
       "54         No            Si        No           Si        No           Si   \n",
       "\n",
       "   InundadoJ TransitableJ InundadoC TransitableC  \n",
       "22        Si           No        Si           No  \n",
       "0         Si           No        Si           No  \n",
       "49        No           No        No           No  \n",
       "4         Si           No        Si           No  \n",
       "54        No           Si        No           Si  "
      ]
     },
     "execution_count": 8,
     "metadata": {},
     "output_type": "execute_result"
    }
   ],
   "source": [
    "X.sample(5, random_state=seed)"
   ]
  },
  {
   "cell_type": "markdown",
   "metadata": {},
   "source": [
    "Y continuamos con la `variable clase`:"
   ]
  },
  {
   "cell_type": "code",
   "execution_count": 9,
   "metadata": {},
   "outputs": [
    {
     "data": {
      "text/html": [
       "<div>\n",
       "<style scoped>\n",
       "    .dataframe tbody tr th:only-of-type {\n",
       "        vertical-align: middle;\n",
       "    }\n",
       "\n",
       "    .dataframe tbody tr th {\n",
       "        vertical-align: top;\n",
       "    }\n",
       "\n",
       "    .dataframe thead th {\n",
       "        text-align: right;\n",
       "    }\n",
       "</style>\n",
       "<table border=\"1\" class=\"dataframe\">\n",
       "  <thead>\n",
       "    <tr style=\"text-align: right;\">\n",
       "      <th></th>\n",
       "      <th>transitable</th>\n",
       "      <th>Inundado</th>\n",
       "    </tr>\n",
       "  </thead>\n",
       "  <tbody>\n",
       "    <tr>\n",
       "      <th>22</th>\n",
       "      <td>No</td>\n",
       "      <td>Si</td>\n",
       "    </tr>\n",
       "    <tr>\n",
       "      <th>0</th>\n",
       "      <td>No</td>\n",
       "      <td>Si</td>\n",
       "    </tr>\n",
       "    <tr>\n",
       "      <th>49</th>\n",
       "      <td>No</td>\n",
       "      <td>No</td>\n",
       "    </tr>\n",
       "    <tr>\n",
       "      <th>4</th>\n",
       "      <td>No</td>\n",
       "      <td>Si</td>\n",
       "    </tr>\n",
       "    <tr>\n",
       "      <th>54</th>\n",
       "      <td>Si</td>\n",
       "      <td>No</td>\n",
       "    </tr>\n",
       "  </tbody>\n",
       "</table>\n",
       "</div>"
      ],
      "text/plain": [
       "   transitable Inundado\n",
       "22          No       Si\n",
       "0           No       Si\n",
       "49          No       No\n",
       "4           No       Si\n",
       "54          Si       No"
      ]
     },
     "execution_count": 9,
     "metadata": {},
     "output_type": "execute_result"
    }
   ],
   "source": [
    "y.sample(5, random_state=seed)"
   ]
  },
  {
   "cell_type": "markdown",
   "metadata": {},
   "source": [
    "Por último, `dividimos` el conjunto de datos en entrenamiento y prueba mediante un *holdout* estratificado:"
   ]
  },
  {
   "cell_type": "code",
   "execution_count": 10,
   "metadata": {},
   "outputs": [],
   "source": [
    "test_size = 0.3\n",
    "\n",
    "X_train, X_test, y_train, y_test = train_test_split(X, y, test_size=test_size, random_state=seed, stratify=y)"
   ]
  },
  {
   "cell_type": "code",
   "execution_count": 11,
   "metadata": {},
   "outputs": [
    {
     "name": "stdout",
     "output_type": "stream",
     "text": [
      "[68, 21, 17, 36, 10, 31, 60, 48, 69, 11, 39, 52, 62, 57, 46, 5, 13, 44, 65, 32, 6, 24, 42, 30, 22, 54, 49, 40, 66, 64, 14, 3, 29, 8, 27, 20, 26, 4, 70, 33, 28, 55, 37, 61, 47, 35, 59, 18, 7]\n"
     ]
    },
    {
     "data": {
      "text/plain": [
       "'sin_procesar\\\\10.jpg'"
      ]
     },
     "execution_count": 11,
     "metadata": {},
     "output_type": "execute_result"
    }
   ],
   "source": [
    "# Obtener los nombres de las imágenes en X_train\n",
    "image_id = X_train['ID'].tolist()\n",
    "# Imprimir los nombres de las imágenes\n",
    "print(image_id)\n",
    "image_names = []\n",
    "# recorremos la lista de nombres de las images y creamos una lista con las imagenes de image_names\n",
    "for i in image_id:\n",
    "    image_names.append(str(i)+'.jpg')\n",
    "    \n",
    "images_train = []\n",
    "for img in images:\n",
    "    if img.filename.split(\"\\\\\")[-1] in image_names:\n",
    "        images_train.append(img)\n",
    "images_train[0].filename"
   ]
  },
  {
   "cell_type": "markdown",
   "metadata": {},
   "source": [
    "Y nos aseguramos que se ha realizado adecuadamente. Comenzamos con el conjunto de datos de entrenamiento:"
   ]
  },
  {
   "cell_type": "code",
   "execution_count": 12,
   "metadata": {},
   "outputs": [
    {
     "data": {
      "text/html": [
       "<div>\n",
       "<style scoped>\n",
       "    .dataframe tbody tr th:only-of-type {\n",
       "        vertical-align: middle;\n",
       "    }\n",
       "\n",
       "    .dataframe tbody tr th {\n",
       "        vertical-align: top;\n",
       "    }\n",
       "\n",
       "    .dataframe thead th {\n",
       "        text-align: right;\n",
       "    }\n",
       "</style>\n",
       "<table border=\"1\" class=\"dataframe\">\n",
       "  <thead>\n",
       "    <tr style=\"text-align: right;\">\n",
       "      <th></th>\n",
       "      <th>URL imagen</th>\n",
       "      <th>ID</th>\n",
       "      <th>formarURL</th>\n",
       "      <th>InundadoJm</th>\n",
       "      <th>TransitableJm</th>\n",
       "      <th>InundadoA</th>\n",
       "      <th>TransitableA</th>\n",
       "      <th>InundadoI</th>\n",
       "      <th>TransitableI</th>\n",
       "      <th>InundadoJ</th>\n",
       "      <th>TransitableJ</th>\n",
       "      <th>InundadoC</th>\n",
       "      <th>TransitableC</th>\n",
       "    </tr>\n",
       "  </thead>\n",
       "  <tbody>\n",
       "    <tr>\n",
       "      <th>56</th>\n",
       "      <td>Imagen</td>\n",
       "      <td>57</td>\n",
       "      <td>https://raw.githubusercontent.com/alenavarroxp...</td>\n",
       "      <td>No</td>\n",
       "      <td>Si</td>\n",
       "      <td>No</td>\n",
       "      <td>Si</td>\n",
       "      <td>No</td>\n",
       "      <td>Si</td>\n",
       "      <td>No</td>\n",
       "      <td>Si</td>\n",
       "      <td>No</td>\n",
       "      <td>Si</td>\n",
       "    </tr>\n",
       "    <tr>\n",
       "      <th>34</th>\n",
       "      <td>Imagen</td>\n",
       "      <td>35</td>\n",
       "      <td>https://raw.githubusercontent.com/alenavarroxp...</td>\n",
       "      <td>No</td>\n",
       "      <td>No</td>\n",
       "      <td>No</td>\n",
       "      <td>No</td>\n",
       "      <td>No</td>\n",
       "      <td>Si</td>\n",
       "      <td>No</td>\n",
       "      <td>Si</td>\n",
       "      <td>No</td>\n",
       "      <td>Si</td>\n",
       "    </tr>\n",
       "    <tr>\n",
       "      <th>17</th>\n",
       "      <td>Imagen</td>\n",
       "      <td>18</td>\n",
       "      <td>https://raw.githubusercontent.com/alenavarroxp...</td>\n",
       "      <td>Si</td>\n",
       "      <td>No</td>\n",
       "      <td>Si</td>\n",
       "      <td>Si</td>\n",
       "      <td>Si</td>\n",
       "      <td>Si</td>\n",
       "      <td>Si</td>\n",
       "      <td>No</td>\n",
       "      <td>Si</td>\n",
       "      <td>No</td>\n",
       "    </tr>\n",
       "    <tr>\n",
       "      <th>46</th>\n",
       "      <td>Imagen</td>\n",
       "      <td>47</td>\n",
       "      <td>https://raw.githubusercontent.com/alenavarroxp...</td>\n",
       "      <td>No</td>\n",
       "      <td>No</td>\n",
       "      <td>No</td>\n",
       "      <td>No</td>\n",
       "      <td>No</td>\n",
       "      <td>Si</td>\n",
       "      <td>No</td>\n",
       "      <td>No</td>\n",
       "      <td>No</td>\n",
       "      <td>No</td>\n",
       "    </tr>\n",
       "    <tr>\n",
       "      <th>43</th>\n",
       "      <td>Imagen</td>\n",
       "      <td>44</td>\n",
       "      <td>https://raw.githubusercontent.com/alenavarroxp...</td>\n",
       "      <td>No</td>\n",
       "      <td>No</td>\n",
       "      <td>No</td>\n",
       "      <td>No</td>\n",
       "      <td>No</td>\n",
       "      <td>No</td>\n",
       "      <td>No</td>\n",
       "      <td>No</td>\n",
       "      <td>No</td>\n",
       "      <td>No</td>\n",
       "    </tr>\n",
       "  </tbody>\n",
       "</table>\n",
       "</div>"
      ],
      "text/plain": [
       "   URL imagen  ID                                          formarURL  \\\n",
       "56     Imagen  57  https://raw.githubusercontent.com/alenavarroxp...   \n",
       "34     Imagen  35  https://raw.githubusercontent.com/alenavarroxp...   \n",
       "17     Imagen  18  https://raw.githubusercontent.com/alenavarroxp...   \n",
       "46     Imagen  47  https://raw.githubusercontent.com/alenavarroxp...   \n",
       "43     Imagen  44  https://raw.githubusercontent.com/alenavarroxp...   \n",
       "\n",
       "   InundadoJm TransitableJm InundadoA TransitableA InundadoI TransitableI  \\\n",
       "56         No            Si        No           Si        No           Si   \n",
       "34         No            No        No           No        No           Si   \n",
       "17         Si            No        Si           Si        Si           Si   \n",
       "46         No            No        No           No        No           Si   \n",
       "43         No            No        No           No        No           No   \n",
       "\n",
       "   InundadoJ TransitableJ InundadoC TransitableC  \n",
       "56        No           Si        No           Si  \n",
       "34        No           Si        No           Si  \n",
       "17        Si           No        Si           No  \n",
       "46        No           No        No           No  \n",
       "43        No           No        No           No  "
      ]
     },
     "execution_count": 12,
     "metadata": {},
     "output_type": "execute_result"
    }
   ],
   "source": [
    "X_train.sample(5, random_state=seed)"
   ]
  },
  {
   "cell_type": "code",
   "execution_count": 13,
   "metadata": {},
   "outputs": [
    {
     "data": {
      "text/html": [
       "<div>\n",
       "<style scoped>\n",
       "    .dataframe tbody tr th:only-of-type {\n",
       "        vertical-align: middle;\n",
       "    }\n",
       "\n",
       "    .dataframe tbody tr th {\n",
       "        vertical-align: top;\n",
       "    }\n",
       "\n",
       "    .dataframe thead th {\n",
       "        text-align: right;\n",
       "    }\n",
       "</style>\n",
       "<table border=\"1\" class=\"dataframe\">\n",
       "  <thead>\n",
       "    <tr style=\"text-align: right;\">\n",
       "      <th></th>\n",
       "      <th>transitable</th>\n",
       "      <th>Inundado</th>\n",
       "    </tr>\n",
       "  </thead>\n",
       "  <tbody>\n",
       "    <tr>\n",
       "      <th>56</th>\n",
       "      <td>Si</td>\n",
       "      <td>No</td>\n",
       "    </tr>\n",
       "    <tr>\n",
       "      <th>34</th>\n",
       "      <td>Si</td>\n",
       "      <td>No</td>\n",
       "    </tr>\n",
       "    <tr>\n",
       "      <th>17</th>\n",
       "      <td>No</td>\n",
       "      <td>Si</td>\n",
       "    </tr>\n",
       "    <tr>\n",
       "      <th>46</th>\n",
       "      <td>No</td>\n",
       "      <td>No</td>\n",
       "    </tr>\n",
       "    <tr>\n",
       "      <th>43</th>\n",
       "      <td>No</td>\n",
       "      <td>No</td>\n",
       "    </tr>\n",
       "  </tbody>\n",
       "</table>\n",
       "</div>"
      ],
      "text/plain": [
       "   transitable Inundado\n",
       "56          Si       No\n",
       "34          Si       No\n",
       "17          No       Si\n",
       "46          No       No\n",
       "43          No       No"
      ]
     },
     "execution_count": 13,
     "metadata": {},
     "output_type": "execute_result"
    }
   ],
   "source": [
    "y_train.sample(5, random_state=seed)"
   ]
  },
  {
   "cell_type": "markdown",
   "metadata": {},
   "source": [
    "Y finalizamos con el conjunto de datos de prueba:"
   ]
  },
  {
   "cell_type": "code",
   "execution_count": 14,
   "metadata": {},
   "outputs": [
    {
     "data": {
      "text/html": [
       "<div>\n",
       "<style scoped>\n",
       "    .dataframe tbody tr th:only-of-type {\n",
       "        vertical-align: middle;\n",
       "    }\n",
       "\n",
       "    .dataframe tbody tr th {\n",
       "        vertical-align: top;\n",
       "    }\n",
       "\n",
       "    .dataframe thead th {\n",
       "        text-align: right;\n",
       "    }\n",
       "</style>\n",
       "<table border=\"1\" class=\"dataframe\">\n",
       "  <thead>\n",
       "    <tr style=\"text-align: right;\">\n",
       "      <th></th>\n",
       "      <th>URL imagen</th>\n",
       "      <th>ID</th>\n",
       "      <th>formarURL</th>\n",
       "      <th>InundadoJm</th>\n",
       "      <th>TransitableJm</th>\n",
       "      <th>InundadoA</th>\n",
       "      <th>TransitableA</th>\n",
       "      <th>InundadoI</th>\n",
       "      <th>TransitableI</th>\n",
       "      <th>InundadoJ</th>\n",
       "      <th>TransitableJ</th>\n",
       "      <th>InundadoC</th>\n",
       "      <th>TransitableC</th>\n",
       "    </tr>\n",
       "  </thead>\n",
       "  <tbody>\n",
       "    <tr>\n",
       "      <th>14</th>\n",
       "      <td>Imagen</td>\n",
       "      <td>15</td>\n",
       "      <td>https://raw.githubusercontent.com/alenavarroxp...</td>\n",
       "      <td>Si</td>\n",
       "      <td>No</td>\n",
       "      <td>Si</td>\n",
       "      <td>No</td>\n",
       "      <td>Si</td>\n",
       "      <td>No</td>\n",
       "      <td>Si</td>\n",
       "      <td>No</td>\n",
       "      <td>Si</td>\n",
       "      <td>No</td>\n",
       "    </tr>\n",
       "    <tr>\n",
       "      <th>1</th>\n",
       "      <td>Imagen</td>\n",
       "      <td>2</td>\n",
       "      <td>https://raw.githubusercontent.com/alenavarroxp...</td>\n",
       "      <td>Si</td>\n",
       "      <td>No</td>\n",
       "      <td>Si</td>\n",
       "      <td>No</td>\n",
       "      <td>Si</td>\n",
       "      <td>No</td>\n",
       "      <td>Si</td>\n",
       "      <td>No</td>\n",
       "      <td>Si</td>\n",
       "      <td>No</td>\n",
       "    </tr>\n",
       "    <tr>\n",
       "      <th>49</th>\n",
       "      <td>Imagen</td>\n",
       "      <td>50</td>\n",
       "      <td>https://raw.githubusercontent.com/alenavarroxp...</td>\n",
       "      <td>No</td>\n",
       "      <td>No</td>\n",
       "      <td>No</td>\n",
       "      <td>No</td>\n",
       "      <td>No</td>\n",
       "      <td>No</td>\n",
       "      <td>No</td>\n",
       "      <td>No</td>\n",
       "      <td>No</td>\n",
       "      <td>No</td>\n",
       "    </tr>\n",
       "    <tr>\n",
       "      <th>40</th>\n",
       "      <td>Imagen</td>\n",
       "      <td>41</td>\n",
       "      <td>https://raw.githubusercontent.com/alenavarroxp...</td>\n",
       "      <td>No</td>\n",
       "      <td>No</td>\n",
       "      <td>No</td>\n",
       "      <td>No</td>\n",
       "      <td>No</td>\n",
       "      <td>No</td>\n",
       "      <td>No</td>\n",
       "      <td>No</td>\n",
       "      <td>No</td>\n",
       "      <td>No</td>\n",
       "    </tr>\n",
       "    <tr>\n",
       "      <th>50</th>\n",
       "      <td>Imagen</td>\n",
       "      <td>51</td>\n",
       "      <td>https://raw.githubusercontent.com/alenavarroxp...</td>\n",
       "      <td>No</td>\n",
       "      <td>Si</td>\n",
       "      <td>No</td>\n",
       "      <td>Si</td>\n",
       "      <td>No</td>\n",
       "      <td>Si</td>\n",
       "      <td>No</td>\n",
       "      <td>Si</td>\n",
       "      <td>No</td>\n",
       "      <td>Si</td>\n",
       "    </tr>\n",
       "  </tbody>\n",
       "</table>\n",
       "</div>"
      ],
      "text/plain": [
       "   URL imagen  ID                                          formarURL  \\\n",
       "14     Imagen  15  https://raw.githubusercontent.com/alenavarroxp...   \n",
       "1      Imagen   2  https://raw.githubusercontent.com/alenavarroxp...   \n",
       "49     Imagen  50  https://raw.githubusercontent.com/alenavarroxp...   \n",
       "40     Imagen  41  https://raw.githubusercontent.com/alenavarroxp...   \n",
       "50     Imagen  51  https://raw.githubusercontent.com/alenavarroxp...   \n",
       "\n",
       "   InundadoJm TransitableJm InundadoA TransitableA InundadoI TransitableI  \\\n",
       "14         Si            No        Si           No        Si           No   \n",
       "1          Si            No        Si           No        Si           No   \n",
       "49         No            No        No           No        No           No   \n",
       "40         No            No        No           No        No           No   \n",
       "50         No            Si        No           Si        No           Si   \n",
       "\n",
       "   InundadoJ TransitableJ InundadoC TransitableC  \n",
       "14        Si           No        Si           No  \n",
       "1         Si           No        Si           No  \n",
       "49        No           No        No           No  \n",
       "40        No           No        No           No  \n",
       "50        No           Si        No           Si  "
      ]
     },
     "execution_count": 14,
     "metadata": {},
     "output_type": "execute_result"
    }
   ],
   "source": [
    "X_test.sample(5, random_state=seed)"
   ]
  },
  {
   "cell_type": "code",
   "execution_count": 15,
   "metadata": {},
   "outputs": [
    {
     "data": {
      "text/html": [
       "<div>\n",
       "<style scoped>\n",
       "    .dataframe tbody tr th:only-of-type {\n",
       "        vertical-align: middle;\n",
       "    }\n",
       "\n",
       "    .dataframe tbody tr th {\n",
       "        vertical-align: top;\n",
       "    }\n",
       "\n",
       "    .dataframe thead th {\n",
       "        text-align: right;\n",
       "    }\n",
       "</style>\n",
       "<table border=\"1\" class=\"dataframe\">\n",
       "  <thead>\n",
       "    <tr style=\"text-align: right;\">\n",
       "      <th></th>\n",
       "      <th>transitable</th>\n",
       "      <th>Inundado</th>\n",
       "    </tr>\n",
       "  </thead>\n",
       "  <tbody>\n",
       "    <tr>\n",
       "      <th>14</th>\n",
       "      <td>No</td>\n",
       "      <td>Si</td>\n",
       "    </tr>\n",
       "    <tr>\n",
       "      <th>1</th>\n",
       "      <td>No</td>\n",
       "      <td>Si</td>\n",
       "    </tr>\n",
       "    <tr>\n",
       "      <th>49</th>\n",
       "      <td>No</td>\n",
       "      <td>No</td>\n",
       "    </tr>\n",
       "    <tr>\n",
       "      <th>40</th>\n",
       "      <td>No</td>\n",
       "      <td>No</td>\n",
       "    </tr>\n",
       "    <tr>\n",
       "      <th>50</th>\n",
       "      <td>Si</td>\n",
       "      <td>No</td>\n",
       "    </tr>\n",
       "  </tbody>\n",
       "</table>\n",
       "</div>"
      ],
      "text/plain": [
       "   transitable Inundado\n",
       "14          No       Si\n",
       "1           No       Si\n",
       "49          No       No\n",
       "40          No       No\n",
       "50          Si       No"
      ]
     },
     "execution_count": 15,
     "metadata": {},
     "output_type": "execute_result"
    }
   ],
   "source": [
    "y_test.sample(5, random_state=seed)"
   ]
  },
  {
   "cell_type": "markdown",
   "metadata": {},
   "source": [
    "Se borran las etiquetas que no aportan informacion"
   ]
  },
  {
   "cell_type": "code",
   "execution_count": 16,
   "metadata": {},
   "outputs": [],
   "source": [
    "etiquetas=['URL imagen,formarURL,InundadoJm,TransitableJm,InundadoA,TransitableA,InundadoI,TransitableI,InundadoJ,TransitableJ,InundadoC,TransitableC'] "
   ]
  },
  {
   "cell_type": "code",
   "execution_count": 17,
   "metadata": {},
   "outputs": [
    {
     "name": "stdout",
     "output_type": "stream",
     "text": [
      "['URL imagen,formarURL,InundadoJm,TransitableJm,InundadoA,TransitableA,InundadoI,TransitableI,InundadoJ,TransitableJ,InundadoC,TransitableC']\n"
     ]
    }
   ],
   "source": [
    "print(etiquetas)"
   ]
  },
  {
   "cell_type": "code",
   "execution_count": 18,
   "metadata": {},
   "outputs": [
    {
     "name": "stdout",
     "output_type": "stream",
     "text": [
      "Index(['URL imagen', 'ID', 'formarURL', 'InundadoJm', 'TransitableJm',\n",
      "       'InundadoA', 'TransitableA', 'InundadoI', 'TransitableI', 'InundadoJ',\n",
      "       'TransitableJ', 'InundadoC', 'TransitableC'],\n",
      "      dtype='object')\n"
     ]
    }
   ],
   "source": [
    "print(X_train.columns)"
   ]
  },
  {
   "cell_type": "markdown",
   "metadata": {},
   "source": [
    "# ELIMINACIÓN DE VARIABLES"
   ]
  },
  {
   "cell_type": "markdown",
   "metadata": {},
   "source": [
    "vamos a `eliminar` las variables que no aportan información con la ayuda de un `pipeline`."
   ]
  },
  {
   "cell_type": "code",
   "execution_count": 19,
   "metadata": {},
   "outputs": [],
   "source": [
    "def drop_columns(X, etiquetas):\n",
    "    # Convertir el string de 'etiquetas' en una lista de columnas\n",
    "    etiquetas = etiquetas[0].split(',')\n",
    "    \n",
    "    # Eliminar las columnas que existen en el dataframe\n",
    "    return X.drop(columns=etiquetas)"
   ]
  },
  {
   "cell_type": "code",
   "execution_count": 20,
   "metadata": {},
   "outputs": [
    {
     "data": {
      "text/html": [
       "<div>\n",
       "<style scoped>\n",
       "    .dataframe tbody tr th:only-of-type {\n",
       "        vertical-align: middle;\n",
       "    }\n",
       "\n",
       "    .dataframe tbody tr th {\n",
       "        vertical-align: top;\n",
       "    }\n",
       "\n",
       "    .dataframe thead th {\n",
       "        text-align: right;\n",
       "    }\n",
       "</style>\n",
       "<table border=\"1\" class=\"dataframe\">\n",
       "  <thead>\n",
       "    <tr style=\"text-align: right;\">\n",
       "      <th></th>\n",
       "      <th>ID</th>\n",
       "    </tr>\n",
       "  </thead>\n",
       "  <tbody>\n",
       "    <tr>\n",
       "      <th>56</th>\n",
       "      <td>57</td>\n",
       "    </tr>\n",
       "    <tr>\n",
       "      <th>34</th>\n",
       "      <td>35</td>\n",
       "    </tr>\n",
       "    <tr>\n",
       "      <th>17</th>\n",
       "      <td>18</td>\n",
       "    </tr>\n",
       "    <tr>\n",
       "      <th>46</th>\n",
       "      <td>47</td>\n",
       "    </tr>\n",
       "    <tr>\n",
       "      <th>43</th>\n",
       "      <td>44</td>\n",
       "    </tr>\n",
       "  </tbody>\n",
       "</table>\n",
       "</div>"
      ],
      "text/plain": [
       "    ID\n",
       "56  57\n",
       "34  35\n",
       "17  18\n",
       "46  47\n",
       "43  44"
      ]
     },
     "execution_count": 20,
     "metadata": {},
     "output_type": "execute_result"
    }
   ],
   "source": [
    "X_train=drop_columns(X_train, etiquetas)\n",
    "X_train.sample(5, random_state=seed)"
   ]
  },
  {
   "cell_type": "code",
   "execution_count": 21,
   "metadata": {},
   "outputs": [
    {
     "data": {
      "text/html": [
       "<div>\n",
       "<style scoped>\n",
       "    .dataframe tbody tr th:only-of-type {\n",
       "        vertical-align: middle;\n",
       "    }\n",
       "\n",
       "    .dataframe tbody tr th {\n",
       "        vertical-align: top;\n",
       "    }\n",
       "\n",
       "    .dataframe thead th {\n",
       "        text-align: right;\n",
       "    }\n",
       "</style>\n",
       "<table border=\"1\" class=\"dataframe\">\n",
       "  <thead>\n",
       "    <tr style=\"text-align: right;\">\n",
       "      <th></th>\n",
       "      <th>ID</th>\n",
       "    </tr>\n",
       "  </thead>\n",
       "  <tbody>\n",
       "    <tr>\n",
       "      <th>14</th>\n",
       "      <td>15</td>\n",
       "    </tr>\n",
       "    <tr>\n",
       "      <th>1</th>\n",
       "      <td>2</td>\n",
       "    </tr>\n",
       "    <tr>\n",
       "      <th>49</th>\n",
       "      <td>50</td>\n",
       "    </tr>\n",
       "    <tr>\n",
       "      <th>40</th>\n",
       "      <td>41</td>\n",
       "    </tr>\n",
       "    <tr>\n",
       "      <th>50</th>\n",
       "      <td>51</td>\n",
       "    </tr>\n",
       "  </tbody>\n",
       "</table>\n",
       "</div>"
      ],
      "text/plain": [
       "    ID\n",
       "14  15\n",
       "1    2\n",
       "49  50\n",
       "40  41\n",
       "50  51"
      ]
     },
     "execution_count": 21,
     "metadata": {},
     "output_type": "execute_result"
    }
   ],
   "source": [
    "X_test=drop_columns(X_test, etiquetas)\n",
    "X_test.sample(5, random_state=seed)"
   ]
  },
  {
   "cell_type": "markdown",
   "metadata": {},
   "source": [
    "# ENCODER y_train e y_test"
   ]
  },
  {
   "cell_type": "code",
   "execution_count": 22,
   "metadata": {},
   "outputs": [
    {
     "name": "stderr",
     "output_type": "stream",
     "text": [
      "C:\\Users\\Juanmi\\AppData\\Local\\Temp\\ipykernel_24060\\1745860845.py:1: FutureWarning: DataFrame.applymap has been deprecated. Use DataFrame.map instead.\n",
      "  y_train = y_train.applymap(lambda x: 1 if x == \"Si\" else (0 if x == \"No\" else x))\n"
     ]
    },
    {
     "data": {
      "text/html": [
       "<div>\n",
       "<style scoped>\n",
       "    .dataframe tbody tr th:only-of-type {\n",
       "        vertical-align: middle;\n",
       "    }\n",
       "\n",
       "    .dataframe tbody tr th {\n",
       "        vertical-align: top;\n",
       "    }\n",
       "\n",
       "    .dataframe thead th {\n",
       "        text-align: right;\n",
       "    }\n",
       "</style>\n",
       "<table border=\"1\" class=\"dataframe\">\n",
       "  <thead>\n",
       "    <tr style=\"text-align: right;\">\n",
       "      <th></th>\n",
       "      <th>transitable</th>\n",
       "      <th>Inundado</th>\n",
       "    </tr>\n",
       "  </thead>\n",
       "  <tbody>\n",
       "    <tr>\n",
       "      <th>67</th>\n",
       "      <td>1</td>\n",
       "      <td>0</td>\n",
       "    </tr>\n",
       "    <tr>\n",
       "      <th>20</th>\n",
       "      <td>0</td>\n",
       "      <td>1</td>\n",
       "    </tr>\n",
       "    <tr>\n",
       "      <th>16</th>\n",
       "      <td>1</td>\n",
       "      <td>1</td>\n",
       "    </tr>\n",
       "    <tr>\n",
       "      <th>35</th>\n",
       "      <td>0</td>\n",
       "      <td>0</td>\n",
       "    </tr>\n",
       "    <tr>\n",
       "      <th>9</th>\n",
       "      <td>0</td>\n",
       "      <td>1</td>\n",
       "    </tr>\n",
       "  </tbody>\n",
       "</table>\n",
       "</div>"
      ],
      "text/plain": [
       "    transitable  Inundado\n",
       "67            1         0\n",
       "20            0         1\n",
       "16            1         1\n",
       "35            0         0\n",
       "9             0         1"
      ]
     },
     "execution_count": 22,
     "metadata": {},
     "output_type": "execute_result"
    }
   ],
   "source": [
    "y_train = y_train.applymap(lambda x: 1 if x == \"Si\" else (0 if x == \"No\" else x))\n",
    "y_train.head()"
   ]
  },
  {
   "cell_type": "code",
   "execution_count": 23,
   "metadata": {},
   "outputs": [
    {
     "name": "stderr",
     "output_type": "stream",
     "text": [
      "C:\\Users\\Juanmi\\AppData\\Local\\Temp\\ipykernel_24060\\3414226292.py:1: FutureWarning: DataFrame.applymap has been deprecated. Use DataFrame.map instead.\n",
      "  y_test = y_test.applymap(lambda x: 1 if x == \"Si\" else (0 if x == \"No\" else x))\n"
     ]
    },
    {
     "data": {
      "text/html": [
       "<div>\n",
       "<style scoped>\n",
       "    .dataframe tbody tr th:only-of-type {\n",
       "        vertical-align: middle;\n",
       "    }\n",
       "\n",
       "    .dataframe tbody tr th {\n",
       "        vertical-align: top;\n",
       "    }\n",
       "\n",
       "    .dataframe thead th {\n",
       "        text-align: right;\n",
       "    }\n",
       "</style>\n",
       "<table border=\"1\" class=\"dataframe\">\n",
       "  <thead>\n",
       "    <tr style=\"text-align: right;\">\n",
       "      <th></th>\n",
       "      <th>transitable</th>\n",
       "      <th>Inundado</th>\n",
       "    </tr>\n",
       "  </thead>\n",
       "  <tbody>\n",
       "    <tr>\n",
       "      <th>14</th>\n",
       "      <td>0</td>\n",
       "      <td>1</td>\n",
       "    </tr>\n",
       "    <tr>\n",
       "      <th>40</th>\n",
       "      <td>0</td>\n",
       "      <td>0</td>\n",
       "    </tr>\n",
       "    <tr>\n",
       "      <th>55</th>\n",
       "      <td>1</td>\n",
       "      <td>0</td>\n",
       "    </tr>\n",
       "    <tr>\n",
       "      <th>24</th>\n",
       "      <td>0</td>\n",
       "      <td>1</td>\n",
       "    </tr>\n",
       "    <tr>\n",
       "      <th>15</th>\n",
       "      <td>0</td>\n",
       "      <td>1</td>\n",
       "    </tr>\n",
       "  </tbody>\n",
       "</table>\n",
       "</div>"
      ],
      "text/plain": [
       "    transitable  Inundado\n",
       "14            0         1\n",
       "40            0         0\n",
       "55            1         0\n",
       "24            0         1\n",
       "15            0         1"
      ]
     },
     "execution_count": 23,
     "metadata": {},
     "output_type": "execute_result"
    }
   ],
   "source": [
    "y_test = y_test.applymap(lambda x: 1 if x == \"Si\" else (0 if x == \"No\" else x))\n",
    "y_test.head()"
   ]
  },
  {
   "cell_type": "markdown",
   "metadata": {},
   "source": [
    "# TRANSFORMACION DE LAS IMÁGENES"
   ]
  },
  {
   "cell_type": "code",
   "execution_count": 24,
   "metadata": {},
   "outputs": [
    {
     "name": "stdout",
     "output_type": "stream",
     "text": [
      "Número total de imágenes aumentadas: 196\n"
     ]
    },
    {
     "data": {
      "text/plain": [
       "'180_10.jpg'"
      ]
     },
     "execution_count": 24,
     "metadata": {},
     "output_type": "execute_result"
    }
   ],
   "source": [
    "# Convertir imágenes a escala de grises y rotarlas\n",
    "augmented_images = []\n",
    "\n",
    "for img in images_train:\n",
    "    # Convertir a escala de grises\n",
    "    gray_img = img.convert('L')\n",
    "    gray_img.filename = \"0_\"+img.filename.split(\"\\\\\")[-1]\n",
    "    \n",
    "    # Rotar la imagen 90º, 180º y 270º\n",
    "    rotated_90 = gray_img.rotate(90)\n",
    "    rotated_180 = gray_img.rotate(180)\n",
    "    rotated_270 = gray_img.rotate(270)\n",
    "    rotated_90.filename = \"90_\"+img.filename.split(\"\\\\\")[-1]\n",
    "    rotated_180.filename = \"180_\"+img.filename.split(\"\\\\\")[-1]\n",
    "    rotated_270.filename = \"270_\"+img.filename.split(\"\\\\\")[-1]\n",
    "    \n",
    "    # Añadir las imágenes originales y transformadas a la lista con filenames\n",
    "    augmented_images.extend([gray_img, rotated_90, rotated_180, rotated_270])\n",
    "\n",
    "# Imprimir el número de imágenes aumentadas\n",
    "print(f'Número total de imágenes aumentadas: {len(augmented_images)}')\n",
    "augmented_images[2].filename"
   ]
  },
  {
   "cell_type": "code",
   "execution_count": 25,
   "metadata": {},
   "outputs": [
    {
     "name": "stdout",
     "output_type": "stream",
     "text": [
      "Se han guardado 196 imágenes en la carpeta trainprocesados.\n"
     ]
    }
   ],
   "source": [
    "output_dir = 'trainprocesados'\n",
    "os.makedirs(output_dir, exist_ok=True)\n",
    "\n",
    "for img in augmented_images:\n",
    "    img.save(os.path.join(output_dir, img.filename.split(\"\\\\\")[-1]))\n",
    "\n",
    "print(f'Se han guardado {len(augmented_images)} imágenes en la carpeta {output_dir}.')"
   ]
  },
  {
   "cell_type": "code",
   "execution_count": 26,
   "metadata": {},
   "outputs": [
    {
     "name": "stdout",
     "output_type": "stream",
     "text": [
      "Los archivos CSV se han guardado en la carpeta MetaData.\n"
     ]
    }
   ],
   "source": [
    "# Crear la carpeta MetaData si no existe\n",
    "os.makedirs('MetaData', exist_ok=True)\n",
    "\n",
    "# Juntar X_train e y_train\n",
    "train_data = pd.concat([X_train, y_train], axis=1)\n",
    "train_data.to_csv('MetaData/train_data.csv', index=False)\n",
    "\n",
    "# Juntar X_test e y_test\n",
    "test_data = pd.concat([X_test, y_test], axis=1)\n",
    "test_data.to_csv('MetaData/test_data.csv', index=False)\n",
    "\n",
    "print('Los archivos CSV se han guardado en la carpeta MetaData.')"
   ]
  }
 ],
 "metadata": {
  "kernelspec": {
   "display_name": "Mineria",
   "language": "python",
   "name": "python3"
  },
  "language_info": {
   "codemirror_mode": {
    "name": "ipython",
    "version": 3
   },
   "file_extension": ".py",
   "mimetype": "text/x-python",
   "name": "python",
   "nbconvert_exporter": "python",
   "pygments_lexer": "ipython3",
   "version": "3.10.13"
  }
 },
 "nbformat": 4,
 "nbformat_minor": 2
}
